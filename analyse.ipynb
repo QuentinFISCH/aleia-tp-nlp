{
 "cells": [
  {
   "cell_type": "markdown",
   "metadata": {},
   "source": [
    "# ALEIA - Cas NLP\n",
    "\n",
    "### Authors\n",
    "\n",
    "- Célian Raimbault\n",
    "- Joséphine Bernard\n",
    "- Mathieu Latournerie\n",
    "- Quentin Fisch\n",
    "\n",
    "### Imports"
   ]
  },
  {
   "cell_type": "code",
   "execution_count": 1,
   "metadata": {},
   "outputs": [],
   "source": [
    "!pip install -q langchain\n",
    "!pip install -q torch\n",
    "!pip install -q transformers\n",
    "!pip install -q sentence-transformers\n",
    "!pip install -q datasets\n",
    "!pip install -q faiss-cpu"
   ]
  },
  {
   "cell_type": "code",
   "execution_count": 2,
   "metadata": {},
   "outputs": [
    {
     "data": {
      "text/plain": [
       "True"
      ]
     },
     "execution_count": 2,
     "metadata": {},
     "output_type": "execute_result"
    }
   ],
   "source": [
    "import pandas as pd\n",
    "\n",
    "from langchain.text_splitter import RecursiveCharacterTextSplitter\n",
    "from langchain.embeddings import HuggingFaceEmbeddings\n",
    "from langchain.vectorstores import FAISS\n",
    "from langchain.document_loaders import DataFrameLoader\n",
    "\n",
    "from langchain.chat_models import ChatOpenAI\n",
    "from langchain.embeddings import OpenAIEmbeddings\n",
    "from langchain.schema.output_parser import StrOutputParser\n",
    "from langchain.schema.runnable import RunnablePassthrough\n",
    "from langchain.vectorstores import Chroma\n",
    "from langchain import hub\n",
    "from dotenv import load_dotenv\n",
    "from langchain.prompts import ChatPromptTemplate\n",
    "import os\n",
    "\n",
    "load_dotenv()"
   ]
  },
  {
   "cell_type": "markdown",
   "metadata": {},
   "source": [
    "### Data exploration"
   ]
  },
  {
   "cell_type": "code",
   "execution_count": 20,
   "metadata": {},
   "outputs": [
    {
     "data": {
      "text/html": [
       "<div>\n",
       "<style scoped>\n",
       "    .dataframe tbody tr th:only-of-type {\n",
       "        vertical-align: middle;\n",
       "    }\n",
       "\n",
       "    .dataframe tbody tr th {\n",
       "        vertical-align: top;\n",
       "    }\n",
       "\n",
       "    .dataframe thead th {\n",
       "        text-align: right;\n",
       "    }\n",
       "</style>\n",
       "<table border=\"1\" class=\"dataframe\">\n",
       "  <thead>\n",
       "    <tr style=\"text-align: right;\">\n",
       "      <th></th>\n",
       "      <th>ID_AIDE</th>\n",
       "      <th>Collectivité</th>\n",
       "      <th>Code SIREN de la collectivité</th>\n",
       "      <th>Référence administrative</th>\n",
       "      <th>Nom de l'aide / de la démarche</th>\n",
       "      <th>Titre alternatif de l'aide</th>\n",
       "      <th>Chapô (HTML)</th>\n",
       "      <th>Chapô (TXT)</th>\n",
       "      <th>Date</th>\n",
       "      <th>Thème</th>\n",
       "      <th>...</th>\n",
       "      <th>Infos pratiques - Contact (HTML)</th>\n",
       "      <th>Infos pratiques - Contact (TXT)</th>\n",
       "      <th>Engagements du bénéficiaire</th>\n",
       "      <th>Date ouverture</th>\n",
       "      <th>Date clôture</th>\n",
       "      <th>Délibération cadre</th>\n",
       "      <th>Lien vers le portail iledefrance.fr</th>\n",
       "      <th>Démarche en ligne</th>\n",
       "      <th>DATEDEBUTFUTURCAMPAGNE</th>\n",
       "      <th>qui</th>\n",
       "    </tr>\n",
       "  </thead>\n",
       "  <tbody>\n",
       "    <tr>\n",
       "      <th>0</th>\n",
       "      <td>HJlWyZsxp</td>\n",
       "      <td>Région Île-de-France</td>\n",
       "      <td>237500079</td>\n",
       "      <td>646</td>\n",
       "      <td>RÊV’ELLES : Programme « RVL Découverte »</td>\n",
       "      <td>Olympe - Rêv’Elles : Programme « RVL Découverte »</td>\n",
       "      <td>&lt;p style=\"margin-bottom:0cm;text-align:left;\"&gt;...</td>\n",
       "      <td>Ce programme de la Région a pour ambition de f...</td>\n",
       "      <td>2023-10-17T21:30:05+02:00</td>\n",
       "      <td>Éducation &amp; recherche : Lycée</td>\n",
       "      <td>...</td>\n",
       "      <td>&lt;p&gt;&lt;span style=\"font-family:CIDFont+F2;\"&gt;Marie...</td>\n",
       "      <td>Marie Castanet, responsable des programmes et ...</td>\n",
       "      <td>NaN</td>\n",
       "      <td>2023-09-01T00:00:00+02:00</td>\n",
       "      <td>2024-06-30T00:00:00+02:00</td>\n",
       "      <td>NaN</td>\n",
       "      <td>https://www.iledefrance.fr/aides-et-appels-a-p...</td>\n",
       "      <td>False</td>\n",
       "      <td>NaN</td>\n",
       "      <td>Établissement d'enseignement secondaire|||Part...</td>\n",
       "    </tr>\n",
       "    <tr>\n",
       "      <th>1</th>\n",
       "      <td>rkZe_5clT</td>\n",
       "      <td>Région Île-de-France</td>\n",
       "      <td>237500079</td>\n",
       "      <td>557</td>\n",
       "      <td>Appel à projets Actions de formation en situat...</td>\n",
       "      <td>Appel à projets Actions de formation en situat...</td>\n",
       "      <td>&lt;p style=\"margin-bottom:0cm;line-height:normal...</td>\n",
       "      <td>La Région soutient des actions de formation in...</td>\n",
       "      <td>2023-10-04T21:30:05+02:00</td>\n",
       "      <td>Emploi &amp; formation : Formation professionnelle...</td>\n",
       "      <td>...</td>\n",
       "      <td>&lt;p&gt;&lt;a href=\"mailto:aap.afest@iledefrance.fr\" t...</td>\n",
       "      <td>aap.afest@iledefrance.fr  Les questions sur AA...</td>\n",
       "      <td>Charte des valeurs de la République et de la l...</td>\n",
       "      <td>2022-07-07T00:00:00+02:00</td>\n",
       "      <td>2022-09-30T23:59:00+02:00</td>\n",
       "      <td>NaN</td>\n",
       "      <td>https://www.iledefrance.fr/aides-et-appels-a-p...</td>\n",
       "      <td>False</td>\n",
       "      <td>NaN</td>\n",
       "      <td>Établissement ou organismes de formation (OF, ...</td>\n",
       "    </tr>\n",
       "    <tr>\n",
       "      <th>2</th>\n",
       "      <td>r1gaxD2xa</td>\n",
       "      <td>Région Île-de-France</td>\n",
       "      <td>237500079</td>\n",
       "      <td>114</td>\n",
       "      <td>Aide aux projets œuvrant à la valorisation des...</td>\n",
       "      <td>NaN</td>\n",
       "      <td>Actions visant à valoriser et mieux faire conn...</td>\n",
       "      <td>Actions visant à valoriser et mieux faire conn...</td>\n",
       "      <td>2023-10-05T21:30:10+02:00</td>\n",
       "      <td>Culture : Patrimoine</td>\n",
       "      <td>...</td>\n",
       "      <td>Chargée de mission pour les départements 75, 7...</td>\n",
       "      <td>Chargée de mission pour les départements 75, 7...</td>\n",
       "      <td>Mesure \"Trouvez un stage\",Charte des valeurs d...</td>\n",
       "      <td>NaN</td>\n",
       "      <td>NaN</td>\n",
       "      <td>CR 2017-084 modifié par CR 2020-015</td>\n",
       "      <td>https://www.iledefrance.fr/aides-et-appels-a-p...</td>\n",
       "      <td>False</td>\n",
       "      <td>NaN</td>\n",
       "      <td>Professionnel - Patrimoine|||Professionnel - C...</td>\n",
       "    </tr>\n",
       "    <tr>\n",
       "      <th>3</th>\n",
       "      <td>rJWfsdW-T</td>\n",
       "      <td>Région Île-de-France</td>\n",
       "      <td>237500079</td>\n",
       "      <td>23</td>\n",
       "      <td>Parentalité, ouverture socio-culturelle et sco...</td>\n",
       "      <td>Parentalité, ouverture socio-culturelle et sco...</td>\n",
       "      <td>Dans le cadre de son programme&lt;a href=\" https:...</td>\n",
       "      <td>Dans le cadre de son programme Région solidair...</td>\n",
       "      <td>2023-10-09T21:30:37+02:00</td>\n",
       "      <td>Santé &amp; Social : Action sociale</td>\n",
       "      <td>...</td>\n",
       "      <td>&lt;a href=\"mailto:solidarites@iledefrance.fr\"&gt;so...</td>\n",
       "      <td>solidarites@iledefrance.fr</td>\n",
       "      <td>Mesure \"Trouvez un stage\",Charte des valeurs d...</td>\n",
       "      <td>2023-03-20T00:00:00+01:00</td>\n",
       "      <td>2023-05-09T00:00:00+02:00</td>\n",
       "      <td>CP 2018-63</td>\n",
       "      <td>https://www.iledefrance.fr/aides-et-appels-a-p...</td>\n",
       "      <td>False</td>\n",
       "      <td>NaN</td>\n",
       "      <td>Association - Régie par la loi de 1901</td>\n",
       "    </tr>\n",
       "    <tr>\n",
       "      <th>4</th>\n",
       "      <td>ByiJ6L2g6</td>\n",
       "      <td>Région Île-de-France</td>\n",
       "      <td>237500079</td>\n",
       "      <td>112</td>\n",
       "      <td>Soutien à la restauration et à l’aménagement d...</td>\n",
       "      <td>NaN</td>\n",
       "      <td>La Région contribue à préserver et favoriser l...</td>\n",
       "      <td>La Région contribue à préserver et favoriser l...</td>\n",
       "      <td>2023-10-24T17:00:05+02:00</td>\n",
       "      <td>Culture : Patrimoine</td>\n",
       "      <td>...</td>\n",
       "      <td>&lt;p&gt;Chargée de mission pour les départements 75...</td>\n",
       "      <td>Chargée de mission pour les départements 75, 7...</td>\n",
       "      <td>Mesure \"Trouvez un stage\",Charte des valeurs d...</td>\n",
       "      <td>NaN</td>\n",
       "      <td>NaN</td>\n",
       "      <td>CR 2017-084 modifié par CR 2020-015</td>\n",
       "      <td>https://www.iledefrance.fr/aides-et-appels-a-p...</td>\n",
       "      <td>False</td>\n",
       "      <td>NaN</td>\n",
       "      <td>Association - Fondation|||Association - ONG|||...</td>\n",
       "    </tr>\n",
       "  </tbody>\n",
       "</table>\n",
       "<p>5 rows × 34 columns</p>\n",
       "</div>"
      ],
      "text/plain": [
       "     ID_AIDE          Collectivité  Code SIREN de la collectivité  \\\n",
       "0  HJlWyZsxp  Région Île-de-France                      237500079   \n",
       "1  rkZe_5clT  Région Île-de-France                      237500079   \n",
       "2  r1gaxD2xa  Région Île-de-France                      237500079   \n",
       "3  rJWfsdW-T  Région Île-de-France                      237500079   \n",
       "4  ByiJ6L2g6  Région Île-de-France                      237500079   \n",
       "\n",
       "   Référence administrative  \\\n",
       "0                       646   \n",
       "1                       557   \n",
       "2                       114   \n",
       "3                        23   \n",
       "4                       112   \n",
       "\n",
       "                      Nom de l'aide / de la démarche  \\\n",
       "0           RÊV’ELLES : Programme « RVL Découverte »   \n",
       "1  Appel à projets Actions de formation en situat...   \n",
       "2  Aide aux projets œuvrant à la valorisation des...   \n",
       "3  Parentalité, ouverture socio-culturelle et sco...   \n",
       "4  Soutien à la restauration et à l’aménagement d...   \n",
       "\n",
       "                          Titre alternatif de l'aide  \\\n",
       "0  Olympe - Rêv’Elles : Programme « RVL Découverte »   \n",
       "1  Appel à projets Actions de formation en situat...   \n",
       "2                                                NaN   \n",
       "3  Parentalité, ouverture socio-culturelle et sco...   \n",
       "4                                                NaN   \n",
       "\n",
       "                                        Chapô (HTML)  \\\n",
       "0  <p style=\"margin-bottom:0cm;text-align:left;\">...   \n",
       "1  <p style=\"margin-bottom:0cm;line-height:normal...   \n",
       "2  Actions visant à valoriser et mieux faire conn...   \n",
       "3  Dans le cadre de son programme<a href=\" https:...   \n",
       "4  La Région contribue à préserver et favoriser l...   \n",
       "\n",
       "                                         Chapô (TXT)  \\\n",
       "0  Ce programme de la Région a pour ambition de f...   \n",
       "1  La Région soutient des actions de formation in...   \n",
       "2  Actions visant à valoriser et mieux faire conn...   \n",
       "3  Dans le cadre de son programme Région solidair...   \n",
       "4  La Région contribue à préserver et favoriser l...   \n",
       "\n",
       "                        Date  \\\n",
       "0  2023-10-17T21:30:05+02:00   \n",
       "1  2023-10-04T21:30:05+02:00   \n",
       "2  2023-10-05T21:30:10+02:00   \n",
       "3  2023-10-09T21:30:37+02:00   \n",
       "4  2023-10-24T17:00:05+02:00   \n",
       "\n",
       "                                               Thème  ...  \\\n",
       "0                      Éducation & recherche : Lycée  ...   \n",
       "1  Emploi & formation : Formation professionnelle...  ...   \n",
       "2                               Culture : Patrimoine  ...   \n",
       "3                    Santé & Social : Action sociale  ...   \n",
       "4                               Culture : Patrimoine  ...   \n",
       "\n",
       "                    Infos pratiques - Contact (HTML)  \\\n",
       "0  <p><span style=\"font-family:CIDFont+F2;\">Marie...   \n",
       "1  <p><a href=\"mailto:aap.afest@iledefrance.fr\" t...   \n",
       "2  Chargée de mission pour les départements 75, 7...   \n",
       "3  <a href=\"mailto:solidarites@iledefrance.fr\">so...   \n",
       "4  <p>Chargée de mission pour les départements 75...   \n",
       "\n",
       "                     Infos pratiques - Contact (TXT)  \\\n",
       "0  Marie Castanet, responsable des programmes et ...   \n",
       "1  aap.afest@iledefrance.fr  Les questions sur AA...   \n",
       "2  Chargée de mission pour les départements 75, 7...   \n",
       "3                         solidarites@iledefrance.fr   \n",
       "4  Chargée de mission pour les départements 75, 7...   \n",
       "\n",
       "                         Engagements du bénéficiaire  \\\n",
       "0                                                NaN   \n",
       "1  Charte des valeurs de la République et de la l...   \n",
       "2  Mesure \"Trouvez un stage\",Charte des valeurs d...   \n",
       "3  Mesure \"Trouvez un stage\",Charte des valeurs d...   \n",
       "4  Mesure \"Trouvez un stage\",Charte des valeurs d...   \n",
       "\n",
       "              Date ouverture               Date clôture  \\\n",
       "0  2023-09-01T00:00:00+02:00  2024-06-30T00:00:00+02:00   \n",
       "1  2022-07-07T00:00:00+02:00  2022-09-30T23:59:00+02:00   \n",
       "2                        NaN                        NaN   \n",
       "3  2023-03-20T00:00:00+01:00  2023-05-09T00:00:00+02:00   \n",
       "4                        NaN                        NaN   \n",
       "\n",
       "                    Délibération cadre  \\\n",
       "0                                  NaN   \n",
       "1                                  NaN   \n",
       "2  CR 2017-084 modifié par CR 2020-015   \n",
       "3                           CP 2018-63   \n",
       "4  CR 2017-084 modifié par CR 2020-015   \n",
       "\n",
       "                 Lien vers le portail iledefrance.fr Démarche en ligne  \\\n",
       "0  https://www.iledefrance.fr/aides-et-appels-a-p...             False   \n",
       "1  https://www.iledefrance.fr/aides-et-appels-a-p...             False   \n",
       "2  https://www.iledefrance.fr/aides-et-appels-a-p...             False   \n",
       "3  https://www.iledefrance.fr/aides-et-appels-a-p...             False   \n",
       "4  https://www.iledefrance.fr/aides-et-appels-a-p...             False   \n",
       "\n",
       "  DATEDEBUTFUTURCAMPAGNE                                                qui  \n",
       "0                    NaN  Établissement d'enseignement secondaire|||Part...  \n",
       "1                    NaN  Établissement ou organismes de formation (OF, ...  \n",
       "2                    NaN  Professionnel - Patrimoine|||Professionnel - C...  \n",
       "3                    NaN             Association - Régie par la loi de 1901  \n",
       "4                    NaN  Association - Fondation|||Association - ONG|||...  \n",
       "\n",
       "[5 rows x 34 columns]"
      ]
     },
     "execution_count": 20,
     "metadata": {},
     "output_type": "execute_result"
    }
   ],
   "source": [
    "df = pd.read_csv('data.csv', sep=';')\n",
    "df.head()"
   ]
  },
  {
   "cell_type": "code",
   "execution_count": 21,
   "metadata": {},
   "outputs": [
    {
     "data": {
      "text/html": [
       "<div>\n",
       "<style scoped>\n",
       "    .dataframe tbody tr th:only-of-type {\n",
       "        vertical-align: middle;\n",
       "    }\n",
       "\n",
       "    .dataframe tbody tr th {\n",
       "        vertical-align: top;\n",
       "    }\n",
       "\n",
       "    .dataframe thead th {\n",
       "        text-align: right;\n",
       "    }\n",
       "</style>\n",
       "<table border=\"1\" class=\"dataframe\">\n",
       "  <thead>\n",
       "    <tr style=\"text-align: right;\">\n",
       "      <th></th>\n",
       "      <th>Nom de l'aide / de la démarche</th>\n",
       "      <th>Titre alternatif de l'aide</th>\n",
       "      <th>Chapô (TXT)</th>\n",
       "      <th>Thème</th>\n",
       "      <th>Mots clés</th>\n",
       "      <th>Pour quel type de projet ? (TXT)</th>\n",
       "      <th>Qui peut en bénéficier ?</th>\n",
       "      <th>Précisions sur le public bénéficiaire (TXT)</th>\n",
       "      <th>Quelle est la nature de l'aide ? (TXT)</th>\n",
       "      <th>Quelles démarches ? (TXT)</th>\n",
       "      <th>À noter (TXT)</th>\n",
       "      <th>Infos pratiques - Contact (TXT)</th>\n",
       "      <th>Engagements du bénéficiaire</th>\n",
       "      <th>Date ouverture</th>\n",
       "      <th>Date clôture</th>\n",
       "      <th>Lien vers le portail iledefrance.fr</th>\n",
       "      <th>Démarche en ligne</th>\n",
       "      <th>qui</th>\n",
       "    </tr>\n",
       "  </thead>\n",
       "  <tbody>\n",
       "    <tr>\n",
       "      <th>0</th>\n",
       "      <td>RÊV’ELLES : Programme « RVL Découverte »</td>\n",
       "      <td>Olympe - Rêv’Elles : Programme « RVL Découverte »</td>\n",
       "      <td>Ce programme de la Région a pour ambition de f...</td>\n",
       "      <td>Éducation &amp; recherche : Lycée</td>\n",
       "      <td>Egalité femmes/hommes</td>\n",
       "      <td>RVL Découverte fait découvrir les différents m...</td>\n",
       "      <td>Établissement d'enseignement secondaire,Partic...</td>\n",
       "      <td>Les jeunes femmes des lycées francilien.</td>\n",
       "      <td>Action gratuite pour les lycées franciliens.</td>\n",
       "      <td>Pour bénéficier de ce programme, s’inscrire di...</td>\n",
       "      <td>NaN</td>\n",
       "      <td>Marie Castanet, responsable des programmes et ...</td>\n",
       "      <td>NaN</td>\n",
       "      <td>2023-09-01T00:00:00+02:00</td>\n",
       "      <td>2024-06-30T00:00:00+02:00</td>\n",
       "      <td>https://www.iledefrance.fr/aides-et-appels-a-p...</td>\n",
       "      <td>False</td>\n",
       "      <td>Établissement d'enseignement secondaire|||Part...</td>\n",
       "    </tr>\n",
       "    <tr>\n",
       "      <th>1</th>\n",
       "      <td>Appel à projets Actions de formation en situat...</td>\n",
       "      <td>Appel à projets Actions de formation en situat...</td>\n",
       "      <td>La Région soutient des actions de formation in...</td>\n",
       "      <td>Emploi &amp; formation : Formation professionnelle...</td>\n",
       "      <td>Emploi</td>\n",
       "      <td>Les projets soutenus sont des actions de forma...</td>\n",
       "      <td>Établissement ou organismes de formation (OF, ...</td>\n",
       "      <td>Les porteurs éligibles sont : Les entreprises,...</td>\n",
       "      <td>Le taux d'intervention maximum sur le projet s...</td>\n",
       "      <td>Les dossiers devront être déposés sur mesdemar...</td>\n",
       "      <td>NaN</td>\n",
       "      <td>aap.afest@iledefrance.fr  Les questions sur AA...</td>\n",
       "      <td>Charte des valeurs de la République et de la l...</td>\n",
       "      <td>2022-07-07T00:00:00+02:00</td>\n",
       "      <td>2022-09-30T23:59:00+02:00</td>\n",
       "      <td>https://www.iledefrance.fr/aides-et-appels-a-p...</td>\n",
       "      <td>False</td>\n",
       "      <td>Établissement ou organismes de formation (OF, ...</td>\n",
       "    </tr>\n",
       "    <tr>\n",
       "      <th>2</th>\n",
       "      <td>Aide aux projets œuvrant à la valorisation des...</td>\n",
       "      <td>NaN</td>\n",
       "      <td>Actions visant à valoriser et mieux faire conn...</td>\n",
       "      <td>Culture : Patrimoine</td>\n",
       "      <td>Patrimoine,Attractivité</td>\n",
       "      <td>Actions de valorisation (expos physiques ou vi...</td>\n",
       "      <td>Professionnel - Patrimoine,Professionnel - Cul...</td>\n",
       "      <td>Sont éligibles les propriétaires publics et pr...</td>\n",
       "      <td>La subvention est calculée par application d’u...</td>\n",
       "      <td>Les demandes d’aide devront être déposées sur ...</td>\n",
       "      <td>Ouverture permanente</td>\n",
       "      <td>Chargée de mission pour les départements 75, 7...</td>\n",
       "      <td>Mesure \"Trouvez un stage\",Charte des valeurs d...</td>\n",
       "      <td>NaN</td>\n",
       "      <td>NaN</td>\n",
       "      <td>https://www.iledefrance.fr/aides-et-appels-a-p...</td>\n",
       "      <td>False</td>\n",
       "      <td>Professionnel - Patrimoine|||Professionnel - C...</td>\n",
       "    </tr>\n",
       "    <tr>\n",
       "      <th>3</th>\n",
       "      <td>Parentalité, ouverture socio-culturelle et sco...</td>\n",
       "      <td>Parentalité, ouverture socio-culturelle et sco...</td>\n",
       "      <td>Dans le cadre de son programme Région solidair...</td>\n",
       "      <td>Santé &amp; Social : Action sociale</td>\n",
       "      <td>Région solidaire</td>\n",
       "      <td>Les projets doivent correspondre à l’une ou pl...</td>\n",
       "      <td>Association - Régie par la loi de 1901</td>\n",
       "      <td>Associations de loi 1901 : l'association doit ...</td>\n",
       "      <td>Subvention en fonctionnement : la subvention r...</td>\n",
       "      <td>Dépôt du dossier de candidature sur la platefo...</td>\n",
       "      <td>Le bénéficiaire de toute subvention de la Régi...</td>\n",
       "      <td>solidarites@iledefrance.fr</td>\n",
       "      <td>Mesure \"Trouvez un stage\",Charte des valeurs d...</td>\n",
       "      <td>2023-03-20T00:00:00+01:00</td>\n",
       "      <td>2023-05-09T00:00:00+02:00</td>\n",
       "      <td>https://www.iledefrance.fr/aides-et-appels-a-p...</td>\n",
       "      <td>False</td>\n",
       "      <td>Association - Régie par la loi de 1901</td>\n",
       "    </tr>\n",
       "    <tr>\n",
       "      <th>4</th>\n",
       "      <td>Soutien à la restauration et à l’aménagement d...</td>\n",
       "      <td>NaN</td>\n",
       "      <td>La Région contribue à préserver et favoriser l...</td>\n",
       "      <td>Culture : Patrimoine</td>\n",
       "      <td>Patrimoine,Attractivité</td>\n",
       "      <td>Restauration du bâtiment (clos et couvert), Me...</td>\n",
       "      <td>Association - Fondation,Association - ONG,Asso...</td>\n",
       "      <td>Dispositif ouvert aux propriétaires publics ou...</td>\n",
       "      <td>La subvention jusqu'à 30 % des dépenses éligib...</td>\n",
       "      <td>Les demandes d’aide devront être déposées sur ...</td>\n",
       "      <td>Ouverture permanente</td>\n",
       "      <td>Chargée de mission pour les départements 75, 7...</td>\n",
       "      <td>Mesure \"Trouvez un stage\",Charte des valeurs d...</td>\n",
       "      <td>NaN</td>\n",
       "      <td>NaN</td>\n",
       "      <td>https://www.iledefrance.fr/aides-et-appels-a-p...</td>\n",
       "      <td>False</td>\n",
       "      <td>Association - Fondation|||Association - ONG|||...</td>\n",
       "    </tr>\n",
       "  </tbody>\n",
       "</table>\n",
       "</div>"
      ],
      "text/plain": [
       "                      Nom de l'aide / de la démarche  \\\n",
       "0           RÊV’ELLES : Programme « RVL Découverte »   \n",
       "1  Appel à projets Actions de formation en situat...   \n",
       "2  Aide aux projets œuvrant à la valorisation des...   \n",
       "3  Parentalité, ouverture socio-culturelle et sco...   \n",
       "4  Soutien à la restauration et à l’aménagement d...   \n",
       "\n",
       "                          Titre alternatif de l'aide  \\\n",
       "0  Olympe - Rêv’Elles : Programme « RVL Découverte »   \n",
       "1  Appel à projets Actions de formation en situat...   \n",
       "2                                                NaN   \n",
       "3  Parentalité, ouverture socio-culturelle et sco...   \n",
       "4                                                NaN   \n",
       "\n",
       "                                         Chapô (TXT)  \\\n",
       "0  Ce programme de la Région a pour ambition de f...   \n",
       "1  La Région soutient des actions de formation in...   \n",
       "2  Actions visant à valoriser et mieux faire conn...   \n",
       "3  Dans le cadre de son programme Région solidair...   \n",
       "4  La Région contribue à préserver et favoriser l...   \n",
       "\n",
       "                                               Thème                Mots clés  \\\n",
       "0                      Éducation & recherche : Lycée    Egalité femmes/hommes   \n",
       "1  Emploi & formation : Formation professionnelle...                   Emploi   \n",
       "2                               Culture : Patrimoine  Patrimoine,Attractivité   \n",
       "3                    Santé & Social : Action sociale         Région solidaire   \n",
       "4                               Culture : Patrimoine  Patrimoine,Attractivité   \n",
       "\n",
       "                    Pour quel type de projet ? (TXT)  \\\n",
       "0  RVL Découverte fait découvrir les différents m...   \n",
       "1  Les projets soutenus sont des actions de forma...   \n",
       "2  Actions de valorisation (expos physiques ou vi...   \n",
       "3  Les projets doivent correspondre à l’une ou pl...   \n",
       "4  Restauration du bâtiment (clos et couvert), Me...   \n",
       "\n",
       "                            Qui peut en bénéficier ?  \\\n",
       "0  Établissement d'enseignement secondaire,Partic...   \n",
       "1  Établissement ou organismes de formation (OF, ...   \n",
       "2  Professionnel - Patrimoine,Professionnel - Cul...   \n",
       "3             Association - Régie par la loi de 1901   \n",
       "4  Association - Fondation,Association - ONG,Asso...   \n",
       "\n",
       "         Précisions sur le public bénéficiaire (TXT)  \\\n",
       "0           Les jeunes femmes des lycées francilien.   \n",
       "1  Les porteurs éligibles sont : Les entreprises,...   \n",
       "2  Sont éligibles les propriétaires publics et pr...   \n",
       "3  Associations de loi 1901 : l'association doit ...   \n",
       "4  Dispositif ouvert aux propriétaires publics ou...   \n",
       "\n",
       "              Quelle est la nature de l'aide ? (TXT)  \\\n",
       "0       Action gratuite pour les lycées franciliens.   \n",
       "1  Le taux d'intervention maximum sur le projet s...   \n",
       "2  La subvention est calculée par application d’u...   \n",
       "3  Subvention en fonctionnement : la subvention r...   \n",
       "4  La subvention jusqu'à 30 % des dépenses éligib...   \n",
       "\n",
       "                           Quelles démarches ? (TXT)  \\\n",
       "0  Pour bénéficier de ce programme, s’inscrire di...   \n",
       "1  Les dossiers devront être déposés sur mesdemar...   \n",
       "2  Les demandes d’aide devront être déposées sur ...   \n",
       "3  Dépôt du dossier de candidature sur la platefo...   \n",
       "4  Les demandes d’aide devront être déposées sur ...   \n",
       "\n",
       "                                       À noter (TXT)  \\\n",
       "0                                                NaN   \n",
       "1                                                NaN   \n",
       "2                               Ouverture permanente   \n",
       "3  Le bénéficiaire de toute subvention de la Régi...   \n",
       "4                               Ouverture permanente   \n",
       "\n",
       "                     Infos pratiques - Contact (TXT)  \\\n",
       "0  Marie Castanet, responsable des programmes et ...   \n",
       "1  aap.afest@iledefrance.fr  Les questions sur AA...   \n",
       "2  Chargée de mission pour les départements 75, 7...   \n",
       "3                         solidarites@iledefrance.fr   \n",
       "4  Chargée de mission pour les départements 75, 7...   \n",
       "\n",
       "                         Engagements du bénéficiaire  \\\n",
       "0                                                NaN   \n",
       "1  Charte des valeurs de la République et de la l...   \n",
       "2  Mesure \"Trouvez un stage\",Charte des valeurs d...   \n",
       "3  Mesure \"Trouvez un stage\",Charte des valeurs d...   \n",
       "4  Mesure \"Trouvez un stage\",Charte des valeurs d...   \n",
       "\n",
       "              Date ouverture               Date clôture  \\\n",
       "0  2023-09-01T00:00:00+02:00  2024-06-30T00:00:00+02:00   \n",
       "1  2022-07-07T00:00:00+02:00  2022-09-30T23:59:00+02:00   \n",
       "2                        NaN                        NaN   \n",
       "3  2023-03-20T00:00:00+01:00  2023-05-09T00:00:00+02:00   \n",
       "4                        NaN                        NaN   \n",
       "\n",
       "                 Lien vers le portail iledefrance.fr  Démarche en ligne  \\\n",
       "0  https://www.iledefrance.fr/aides-et-appels-a-p...              False   \n",
       "1  https://www.iledefrance.fr/aides-et-appels-a-p...              False   \n",
       "2  https://www.iledefrance.fr/aides-et-appels-a-p...              False   \n",
       "3  https://www.iledefrance.fr/aides-et-appels-a-p...              False   \n",
       "4  https://www.iledefrance.fr/aides-et-appels-a-p...              False   \n",
       "\n",
       "                                                 qui  \n",
       "0  Établissement d'enseignement secondaire|||Part...  \n",
       "1  Établissement ou organismes de formation (OF, ...  \n",
       "2  Professionnel - Patrimoine|||Professionnel - C...  \n",
       "3             Association - Régie par la loi de 1901  \n",
       "4  Association - Fondation|||Association - ONG|||...  "
      ]
     },
     "execution_count": 21,
     "metadata": {},
     "output_type": "execute_result"
    }
   ],
   "source": [
    "columns_to_drop = [\"ID_AIDE\", \"Collectivité\", \"Code SIREN de la collectivité\", \"Référence administrative\", \"Chapô (HTML)\", \"Pour quel type de projet ?\", \"Précisions sur le public bénéficiaire (HTML)\", \"Quelle est la nature de l'aide ?\", \"Quelles démarches ?\", \"À noter\", \"Documents informatifs\", \"Documents nécessaires\", \"Infos pratiques - Contact (HTML)\", \"Date\", \"Délibération cadre\", \"DATEDEBUTFUTURCAMPAGNE\"]\n",
    "df = df.drop(columns=columns_to_drop)\n",
    "df.head()"
   ]
  },
  {
   "cell_type": "code",
   "execution_count": 6,
   "metadata": {},
   "outputs": [
    {
     "data": {
      "text/plain": [
       "0      Nom de l'aide: RÊV’ELLES : Programme « RVL Déc...\n",
       "1      Nom de l'aide: Appel à projets Actions de form...\n",
       "2      Nom de l'aide: Aide aux projets œuvrant à la v...\n",
       "3      Nom de l'aide: Parentalité, ouverture socio-cu...\n",
       "4      Nom de l'aide: Soutien à la restauration et à ...\n",
       "                             ...                        \n",
       "322    Nom de l'aide: CONVENTIONS DE DEVELOPPEMENT CU...\n",
       "323    Nom de l'aide: PM'up Souveraineté Transition é...\n",
       "324    Nom de l'aide: Fonds d'aide à la création de j...\n",
       "325    Nom de l'aide: Soutien aux projets associatifs...\n",
       "326    Nom de l'aide: Soutien aux commerces ruraux : ...\n",
       "Name: text, Length: 327, dtype: object"
      ]
     },
     "execution_count": 6,
     "metadata": {},
     "output_type": "execute_result"
    }
   ],
   "source": [
    "df['text'] = \"Nom de l'aide: \" + df[\"Nom de l'aide / de la démarche\"] + \"\\n\" + \"Chapo: \" + df[\"Chapô (TXT)\"] + \"\\n\" + \"Mots clés: \" + df[\"Mots clés\"]\n",
    "df[\"text\"]"
   ]
  },
  {
   "cell_type": "code",
   "execution_count": 7,
   "metadata": {},
   "outputs": [
    {
     "data": {
      "text/html": [
       "<div>\n",
       "<style scoped>\n",
       "    .dataframe tbody tr th:only-of-type {\n",
       "        vertical-align: middle;\n",
       "    }\n",
       "\n",
       "    .dataframe tbody tr th {\n",
       "        vertical-align: top;\n",
       "    }\n",
       "\n",
       "    .dataframe thead th {\n",
       "        text-align: right;\n",
       "    }\n",
       "</style>\n",
       "<table border=\"1\" class=\"dataframe\">\n",
       "  <thead>\n",
       "    <tr style=\"text-align: right;\">\n",
       "      <th></th>\n",
       "      <th>text</th>\n",
       "      <th>qui</th>\n",
       "      <th>Thème</th>\n",
       "    </tr>\n",
       "  </thead>\n",
       "  <tbody>\n",
       "    <tr>\n",
       "      <th>0</th>\n",
       "      <td>Nom de l'aide: RÊV’ELLES : Programme « RVL Déc...</td>\n",
       "      <td>Établissement d'enseignement secondaire|||Part...</td>\n",
       "      <td>Éducation &amp; recherche : Lycée</td>\n",
       "    </tr>\n",
       "    <tr>\n",
       "      <th>1</th>\n",
       "      <td>Nom de l'aide: Appel à projets Actions de form...</td>\n",
       "      <td>Établissement ou organismes de formation (OF, ...</td>\n",
       "      <td>Emploi &amp; formation : Formation professionnelle...</td>\n",
       "    </tr>\n",
       "    <tr>\n",
       "      <th>2</th>\n",
       "      <td>Nom de l'aide: Aide aux projets œuvrant à la v...</td>\n",
       "      <td>Professionnel - Patrimoine|||Professionnel - C...</td>\n",
       "      <td>Culture : Patrimoine</td>\n",
       "    </tr>\n",
       "    <tr>\n",
       "      <th>3</th>\n",
       "      <td>Nom de l'aide: Parentalité, ouverture socio-cu...</td>\n",
       "      <td>Association - Régie par la loi de 1901</td>\n",
       "      <td>Santé &amp; Social : Action sociale</td>\n",
       "    </tr>\n",
       "    <tr>\n",
       "      <th>4</th>\n",
       "      <td>Nom de l'aide: Soutien à la restauration et à ...</td>\n",
       "      <td>Association - Fondation|||Association - ONG|||...</td>\n",
       "      <td>Culture : Patrimoine</td>\n",
       "    </tr>\n",
       "    <tr>\n",
       "      <th>...</th>\n",
       "      <td>...</td>\n",
       "      <td>...</td>\n",
       "      <td>...</td>\n",
       "    </tr>\n",
       "    <tr>\n",
       "      <th>322</th>\n",
       "      <td>Nom de l'aide: CONVENTIONS DE DEVELOPPEMENT CU...</td>\n",
       "      <td>Professionnel - Créateur d'entreprise|||Profes...</td>\n",
       "      <td>Culture : Arts plastiques; numériques et urbains</td>\n",
       "    </tr>\n",
       "    <tr>\n",
       "      <th>323</th>\n",
       "      <td>Nom de l'aide: PM'up Souveraineté Transition é...</td>\n",
       "      <td>Professionnel - TPE &lt; 10|||Professionnel - PME...</td>\n",
       "      <td>Territoire : SDRIF Environnemental,Économie : ...</td>\n",
       "    </tr>\n",
       "    <tr>\n",
       "      <th>324</th>\n",
       "      <td>Nom de l'aide: Fonds d'aide à la création de j...</td>\n",
       "      <td>Professionnel - Créateur d'entreprise|||Profes...</td>\n",
       "      <td>Culture : Jeux vidéo</td>\n",
       "    </tr>\n",
       "    <tr>\n",
       "      <th>325</th>\n",
       "      <td>Nom de l'aide: Soutien aux projets associatifs...</td>\n",
       "      <td>Association - Régie par la loi de 1901</td>\n",
       "      <td>Santé &amp; Social : Action sociale</td>\n",
       "    </tr>\n",
       "    <tr>\n",
       "      <th>326</th>\n",
       "      <td>Nom de l'aide: Soutien aux commerces ruraux : ...</td>\n",
       "      <td>Collectivité ou institution - EPCI|||Collectiv...</td>\n",
       "      <td>Territoire : Ruralité,Économie : Développement...</td>\n",
       "    </tr>\n",
       "  </tbody>\n",
       "</table>\n",
       "<p>327 rows × 3 columns</p>\n",
       "</div>"
      ],
      "text/plain": [
       "                                                  text  \\\n",
       "0    Nom de l'aide: RÊV’ELLES : Programme « RVL Déc...   \n",
       "1    Nom de l'aide: Appel à projets Actions de form...   \n",
       "2    Nom de l'aide: Aide aux projets œuvrant à la v...   \n",
       "3    Nom de l'aide: Parentalité, ouverture socio-cu...   \n",
       "4    Nom de l'aide: Soutien à la restauration et à ...   \n",
       "..                                                 ...   \n",
       "322  Nom de l'aide: CONVENTIONS DE DEVELOPPEMENT CU...   \n",
       "323  Nom de l'aide: PM'up Souveraineté Transition é...   \n",
       "324  Nom de l'aide: Fonds d'aide à la création de j...   \n",
       "325  Nom de l'aide: Soutien aux projets associatifs...   \n",
       "326  Nom de l'aide: Soutien aux commerces ruraux : ...   \n",
       "\n",
       "                                                   qui  \\\n",
       "0    Établissement d'enseignement secondaire|||Part...   \n",
       "1    Établissement ou organismes de formation (OF, ...   \n",
       "2    Professionnel - Patrimoine|||Professionnel - C...   \n",
       "3               Association - Régie par la loi de 1901   \n",
       "4    Association - Fondation|||Association - ONG|||...   \n",
       "..                                                 ...   \n",
       "322  Professionnel - Créateur d'entreprise|||Profes...   \n",
       "323  Professionnel - TPE < 10|||Professionnel - PME...   \n",
       "324  Professionnel - Créateur d'entreprise|||Profes...   \n",
       "325             Association - Régie par la loi de 1901   \n",
       "326  Collectivité ou institution - EPCI|||Collectiv...   \n",
       "\n",
       "                                                 Thème  \n",
       "0                        Éducation & recherche : Lycée  \n",
       "1    Emploi & formation : Formation professionnelle...  \n",
       "2                                 Culture : Patrimoine  \n",
       "3                      Santé & Social : Action sociale  \n",
       "4                                 Culture : Patrimoine  \n",
       "..                                                 ...  \n",
       "322   Culture : Arts plastiques; numériques et urbains  \n",
       "323  Territoire : SDRIF Environnemental,Économie : ...  \n",
       "324                               Culture : Jeux vidéo  \n",
       "325                    Santé & Social : Action sociale  \n",
       "326  Territoire : Ruralité,Économie : Développement...  \n",
       "\n",
       "[327 rows x 3 columns]"
      ]
     },
     "execution_count": 7,
     "metadata": {},
     "output_type": "execute_result"
    }
   ],
   "source": [
    "df_reduced = df[[\"text\", \"qui\", \"Thème\"]]\n",
    "df_reduced"
   ]
  },
  {
   "cell_type": "code",
   "execution_count": 8,
   "metadata": {},
   "outputs": [
    {
     "data": {
      "text/plain": [
       "[Document(page_content='RÊV’ELLES : Programme « RVL Découverte »', metadata={\"Titre alternatif de l'aide\": 'Olympe - Rêv’Elles : Programme « RVL Découverte »', 'Chapô (TXT)': 'Ce programme de la Région a pour ambition de faire découvrir aux jeunes filles un grand nombre de secteurs et de métiers avec des objectifs pédagogiques d’ouverture du champ des possibles, d’affranchissement des déterminismes et de pouvoir d’agir.', 'Thème': 'Éducation & recherche : Lycée', 'Mots clés': 'Egalité femmes/hommes', 'Pour quel type de projet ? (TXT)': \"RVL Découverte fait découvrir les différents métiers et secteurs d’activités aux jeunes filles et les accompagne à dépasser stéréotypes de genre, difficultés de représentation des métiers, biais d’orientation et autocensure.Sensibilisation sur la déconstruction des croyances limitantes auprès d’établissements scolaires ou de structures jeunesse.Programme RVL Ton Potentiel : parcours intensif de 5 jours puis suivi de 5 mois avec coachings collectifs et individuels pour booster projet professionnel et confiance en soi. Coachs formées à la pédagogie « Rêv’Elles » et rencontres de figures féminines inspirantes, des « Rôles Modèles »  témoignant de leurs carrières et métiers. « Rêv'Elles » propose ensuite des parcours de 3 jours comprenant plusieurs formats (visites, ateliers, forums)  pour permettre aux jeunes filles la découverte de nouveaux métiers/secteurs.\", 'Qui peut en bénéficier ?': \"Établissement d'enseignement secondaire,Particulier - Lycéen\", 'Précisions sur le public bénéficiaire (TXT)': 'Les jeunes femmes des lycées francilien.', \"Quelle est la nature de l'aide ? (TXT)\": 'Action gratuite pour les lycées franciliens.', 'Quelles démarches ? (TXT)': 'Pour bénéficier de ce programme, s’inscrire directement auprès de l’association Rêv’Elles.', 'À noter (TXT)': nan, 'Infos pratiques - Contact (TXT)': 'Marie Castanet, responsable des programmes et du développement en Île-de-France  Email : marie.castanet@revelles.org Tél. : 06 21 85 41 21', 'Engagements du bénéficiaire': nan, 'Date ouverture': '2023-09-01T00:00:00+02:00', 'Date clôture': '2024-06-30T00:00:00+02:00', 'Lien vers le portail iledefrance.fr': 'https://www.iledefrance.fr/aides-et-appels-a-projets/646', 'Démarche en ligne': False, 'qui': \"Établissement d'enseignement secondaire|||Particulier - Lycéen\", 'text': \"Nom de l'aide: RÊV’ELLES : Programme « RVL Découverte »\\nChapo: Ce programme de la Région a pour ambition de faire découvrir aux jeunes filles un grand nombre de secteurs et de métiers avec des objectifs pédagogiques d’ouverture du champ des possibles, d’affranchissement des déterminismes et de pouvoir d’agir.\\nMots clés: Egalité femmes/hommes\"}),\n",
       " Document(page_content='Appel à projets Actions de formation en situation de travail (AFEST)', metadata={\"Titre alternatif de l'aide\": 'Appel à projets Actions de formation en situation de travail (AFEST)', 'Chapô (TXT)': \"La Région soutient des actions de formation innovantes qui valorisent la situation de travail apprenante au sein de l’entreprise et offrent une nouvelle chance de qualification et d'accès à l'emploi aux demandeurs d’emploi bénéficiaires de l'AFEST.\", 'Thème': 'Emploi & formation : Formation professionnelle,Emploi & formation : Emploi', 'Mots clés': 'Emploi', 'Pour quel type de projet ? (TXT)': 'Les projets soutenus sont des actions de formation innovantes qui valorisent la situation de travail apprenante au sein de l’entreprise.  Elles s’adressent aux demandeurs d’emploi inscrits dans une agence Pôle emploi francilienne. Et plus particulièrement les publics du Plan régional d’investissement dans les compétences (PRIC), à savoir les demandeurs d’emploi peu ou pas qualifiés, dont les jeunes de 16 à 25 ans inclus.  La formation en situation de travail doit représenter au moins 70% du temps total de l’action de formation proposée.   Les projets incluant un engagement de l’entreprise pour le recrutement en emploi à la sortie de la formation seront étudiés attentivement.  À noter que les personnes participant aux actions retenues ont le statut de « stagiaires de la formation professionnelle » et peuvent, à ce titre, bénéficier d’une protection sociale et d’une rémunération.', 'Qui peut en bénéficier ?': \"Établissement ou organismes de formation (OF, OPCO, FSS, CFA...),Association - Régie par la loi de 1901,Association - ONG,Association - Fondation,Professionnel - Créateur d'entreprise,Professionnel - TPE < 10,Professionnel - PME < 250,Professionnel - ETI < 5000,Professionnel - GE > 5000\", 'Précisions sur le public bénéficiaire (TXT)': 'Les porteurs éligibles sont : Les entreprises, Les organismes de formation, Les opérateurs de compétences (OPCO)...Une attention particulière sera portée aux projets de consortiums constitués d’entreprises et d’organismes de formation proposant des synergies partenariales.', \"Quelle est la nature de l'aide ? (TXT)\": \"Le taux d'intervention maximum sur le projet sera de 70% ou 80% en fonction du régime d'aides d'État.Le complément financier du projet doit être apporté par un ou plusieurs cofinancements et/ou d’un financement sur fonds propres. La subvention régionale vise à couvrir uniquement les dépenses de fonctionnement. Les dépenses d’ingénierie, de formation et d’évaluation constituent l’assiette éligible au financement. Les dépenses de formation concernées sont uniquement celles liées à la mise en œuvre de l’AFEST.\", 'Quelles démarches ? (TXT)': 'Les dossiers devront être déposés sur mesdemarches.iledefrance.fr, la plateforme des aides régionales.', 'À noter (TXT)': nan, 'Infos pratiques - Contact (TXT)': 'aap.afest@iledefrance.fr  Les questions sur AAP AFEST peuvent être posées jusqu’au jeudi 29 septembre 2022 à 17h.', 'Engagements du bénéficiaire': 'Charte des valeurs de la République et de la laïcité,Mesure \"Trouvez un stage\"', 'Date ouverture': '2022-07-07T00:00:00+02:00', 'Date clôture': '2022-09-30T23:59:00+02:00', 'Lien vers le portail iledefrance.fr': 'https://www.iledefrance.fr/aides-et-appels-a-projets/557', 'Démarche en ligne': False, 'qui': \"Établissement ou organismes de formation (OF, OPCO, FSS, CFA...)|||Association - Régie par la loi de 1901|||Association - ONG|||Association - Fondation|||Professionnel - Créateur d'entreprise|||Professionnel - TPE < 10|||Professionnel - PME < 250|||Professionnel - ETI < 5000|||Professionnel - GE > 5000\", 'text': \"Nom de l'aide: Appel à projets Actions de formation en situation de travail (AFEST)\\nChapo: La Région soutient des actions de formation innovantes qui valorisent la situation de travail apprenante au sein de l’entreprise et offrent une nouvelle chance de qualification et d'accès à l'emploi aux demandeurs d’emploi bénéficiaires de l'AFEST.\\nMots clés: Emploi\"}),\n",
       " Document(page_content='Aide aux projets œuvrant à la valorisation des maisons d’artistes remarquables', metadata={\"Titre alternatif de l'aide\": nan, 'Chapô (TXT)': \"Actions visant à valoriser et mieux faire connaître les maisons d'artistes qui, à forte dimension patrimoniale, témoignent de la présence de personnages remarquables et participent au rayonnement de l'Ile-de-France.\", 'Thème': 'Culture : Patrimoine', 'Mots clés': 'Patrimoine,Attractivité', 'Pour quel type de projet ? (TXT)': 'Actions de valorisation (expos physiques ou virtuelles, journées d’étude, site Internet, publications, films documentaires…),Outils de médiation  (cartes et itinéraires papier ou numériques, livrets de visite, outils numériques, multimédia, parcours d’interprétation...),Dispositifs pédagogiques (mallettes pédagogiques, Moocs, supports de visite à destination des jeunes…),Événements à forte dimension patrimoniale à l’échelle de l’Île-de-France. Une attention particulière sera portée à la qualité des contenus, à l’originalité et la pertinence des outils ou actions, et à leur adéquation avec les publics ciblés.', 'Qui peut en bénéficier ?': 'Professionnel - Patrimoine,Professionnel - Culture,Association - Régie par la loi de 1901,Association - Fondation,Collectivité ou institution - Communes de 10 000 à 20 000 hab,Collectivité ou institution - Communes de 2000 à 10 000 hab,Collectivité ou institution - Communes de < 2000 hab,Collectivité ou institution - Communes de > 20 000 hab,Collectivité ou institution - Département,Collectivité ou institution - EPCI,Collectivité ou institution - Autre (GIP, copropriété, EPA...)', 'Précisions sur le public bénéficiaire (TXT)': 'Sont éligibles les propriétaires publics et privés de maisons ou d’ateliers d’artistes ou les personnes morales de droit privé ou public en charge de ce patrimoine.  Les établissements bénéficiant du label délivré par la DRAC « Maisons des illustres » sont également concernés par le dispositif.', \"Quelle est la nature de l'aide ? (TXT)\": 'La subvention est calculée par application d’un taux d’intervention de 40 % maximum des dépenses éligibles liées au projet.  L’aide régionale est plafonnée à 30 000 €.', 'Quelles démarches ? (TXT)': 'Les demandes d’aide devront être déposées sur mesdemarches.iledefrance.fr, la plateforme des aides régionales.', 'À noter (TXT)': 'Ouverture permanente', 'Infos pratiques - Contact (TXT)': 'Chargée de mission pour les départements 75, 77, 92, 93Héloïse Mailléheloise.maille-virole@iledefrance.fr    Chargé de mission pour les départements 78, 91, 94, 95Kamel Kacihikamel.kacihi@iledefrance.fr', 'Engagements du bénéficiaire': 'Mesure \"Trouvez un stage\",Charte des valeurs de la République et de la laïcité', 'Date ouverture': nan, 'Date clôture': nan, 'Lien vers le portail iledefrance.fr': 'https://www.iledefrance.fr/aides-et-appels-a-projets/114', 'Démarche en ligne': False, 'qui': 'Professionnel - Patrimoine|||Professionnel - Culture|||Association - Régie par la loi de 1901|||Association - Fondation|||Collectivité ou institution - Communes de 10 000 à 20 000 hab|||Collectivité ou institution - Communes de 2000 à 10 000 hab|||Collectivité ou institution - Communes de < 2000 hab|||Collectivité ou institution - Communes de > 20 000 hab|||Collectivité ou institution - Département|||Collectivité ou institution - EPCI|||Collectivité ou institution - Autre (GIP, copropriété, EPA...)', 'text': \"Nom de l'aide: Aide aux projets œuvrant à la valorisation des maisons d’artistes remarquables\\nChapo: Actions visant à valoriser et mieux faire connaître les maisons d'artistes qui, à forte dimension patrimoniale, témoignent de la présence de personnages remarquables et participent au rayonnement de l'Ile-de-France.\\nMots clés: Patrimoine,Attractivité\"}),\n",
       " Document(page_content='Parentalité, ouverture socio-culturelle et scolarité pour les enfants en difficulté', metadata={\"Titre alternatif de l'aide\": 'Parentalité, ouverture socio-culturelle et scolarité pour les enfants en difficulté', 'Chapô (TXT)': 'Dans le cadre de son programme Région solidaire, la Région soutient des projets associatifs d’envergure régionale pour les enfants ou leurs familles, en situation de précarité ou de pauvreté.', 'Thème': 'Santé & Social : Action sociale', 'Mots clés': 'Région solidaire', 'Pour quel type de projet ? (TXT)': 'Les projets doivent correspondre à l’une ou plusieurs des thématiques suivantes :  Accompagnement (en dialogue avec le tuteur légal) d’enfants ou adolescents franciliens défavorisés : soutien scolaire, soutien à la motivation, aide à l’orientation,Accompagnement aux familles dans leurs missions éducatives auprès des jeunes,Actions opérationnelles s’inscrivant sur le territoire régional, à travers la constitution et/ou animation d’un réseau institutionnel et/ou associatif,Formation des intervenants, notamment les bénévoles.', 'Qui peut en bénéficier ?': 'Association - Régie par la loi de 1901', 'Précisions sur le public bénéficiaire (TXT)': \"Associations de loi 1901 : l'association doit avoir plus de 1 an d’existence lors de la demande de subvention et pouvoir justifier d’un bilan d’exercice comptable de l’année écoulée.\", \"Quelle est la nature de l'aide ? (TXT)\": 'Subvention en fonctionnement : la subvention régionale est fixée au maximum à 50% de la dépense subventionnable (total des dépenses éligibles), dans la limite de 35.000€.', 'Quelles démarches ? (TXT)': \"Dépôt du dossier de candidature sur la plateforme des aides régionales mesdemarches.iledefrance.fr.   Ouverture du lundi 20 mars 2023 au mardi 9 mai 2023.  Nom du dispositif : « Soutien à la parentalité, à l'ouverture socio-culturelle et à la scolarité pour les enfants en difficulté ».  Recherche par libellé « enfants ».\", 'À noter (TXT)': 'Le bénéficiaire de toute subvention de la Région devra respecter des obligations en matière de communication qui lui seront précisées dans la convention de partenariat.', 'Infos pratiques - Contact (TXT)': 'solidarites@iledefrance.fr', 'Engagements du bénéficiaire': 'Mesure \"Trouvez un stage\",Charte des valeurs de la République et de la laïcité', 'Date ouverture': '2023-03-20T00:00:00+01:00', 'Date clôture': '2023-05-09T00:00:00+02:00', 'Lien vers le portail iledefrance.fr': 'https://www.iledefrance.fr/aides-et-appels-a-projets/23', 'Démarche en ligne': False, 'qui': 'Association - Régie par la loi de 1901', 'text': \"Nom de l'aide: Parentalité, ouverture socio-culturelle et scolarité pour les enfants en difficulté\\nChapo: Dans le cadre de son programme Région solidaire, la Région soutient des projets associatifs d’envergure régionale pour les enfants ou leurs familles, en situation de précarité ou de pauvreté.\\nMots clés: Région solidaire\"}),\n",
       " Document(page_content='Soutien à la restauration et à l’aménagement du patrimoine labellisé d’intérêt régional', metadata={\"Titre alternatif de l'aide\": nan, 'Chapô (TXT)': \"La Région contribue à préserver et favoriser l'ouverture des édifices ou ensembles labellisés d'intérêt régional. Cette démarche renforce l'attractivité touristique de l'Île-de-France, et met l'accent sur un patrimoine remarquable souvent méconnu.\", 'Thème': 'Culture : Patrimoine', 'Mots clés': 'Patrimoine,Attractivité', 'Pour quel type de projet ? (TXT)': 'Restauration du bâtiment (clos et couvert), Mesures d’urgence, Aménagements intérieurs et extérieurs.', 'Qui peut en bénéficier ?': 'Association - Fondation,Association - ONG,Association - Régie par la loi de 1901,Particulier - Francilien,Professionnel - Culture,Professionnel - Patrimoine,Collectivité ou institution - Autre (GIP, copropriété, EPA...),Collectivité ou institution - Bailleurs sociaux,Collectivité ou institution - Communes de 10 000 à 20 000 hab,Collectivité ou institution - Communes de 2000 à 10 000 hab,Collectivité ou institution - Communes de < 2000 hab,Collectivité ou institution - Communes de > 20 000 hab,Collectivité ou institution - Département,Collectivité ou institution - EPCI,Collectivité ou institution - EPT / Métropole du Grand Paris', 'Précisions sur le public bénéficiaire (TXT)': 'Dispositif ouvert aux propriétaires publics ou privés dont le bien immobilier a obtenu le label « Patrimoine d’intérêt régional ».Les aménageurs mandatés par les collectivités territoriales peuvent être bénéficiaires. Une convention de délégation de maîtrise d’ouvrage doit avoir été signée entre la collectivité et l’aménageur.', \"Quelle est la nature de l'aide ? (TXT)\": \"La subvention jusqu'à 30 % des dépenses éligibles correspondant au coût des travaux et aux honoraires de maîtrise d’œuvre, à l’exclusion des postes de dépenses suivants : acquisitions foncières, études préalables, assurances dommage ouvrage, travaux de démolition préalable, travaux de dépollution, travaux de voirie et réseaux divers.Aide plafonnée à 500 000 €.La demande d’autorisation de permis de construire et l’avant-projet définitif (APD) sont indispensables.  Le projet de restauration sera lié à l’intérêt architectural du bâtiment.   À toutes les étapes, la maîtrise d’ouvrage pourra se faire accompagner par le CAUE de son département, et de préférence en amont de la demande de labellisation. Le projet devra être élaboré de préférence par un.e architecte du patrimoine dans le cadre d''une mission de maîtrise d’œuvre.\", 'Quelles démarches ? (TXT)': 'Les demandes d’aide devront être déposées sur mesdemarches.iledefrance.fr, la plateforme des aides régionales.', 'À noter (TXT)': 'Ouverture permanente', 'Infos pratiques - Contact (TXT)': 'Chargée de mission pour les départements 75, 77, 92, 93Héloïse Maillé-Vheloise.maille-virole@iledefrance.fr Chargé de mission pour les départements 78, 91, 94, 95Kamel Kacihikamel.kacihi@iledefrance.fr', 'Engagements du bénéficiaire': 'Mesure \"Trouvez un stage\",Charte des valeurs de la République et de la laïcité', 'Date ouverture': nan, 'Date clôture': nan, 'Lien vers le portail iledefrance.fr': 'https://www.iledefrance.fr/aides-et-appels-a-projets/112', 'Démarche en ligne': False, 'qui': 'Association - Fondation|||Association - ONG|||Association - Régie par la loi de 1901|||Particulier - Francilien|||Professionnel - Culture|||Professionnel - Patrimoine|||Collectivité ou institution - Autre (GIP, copropriété, EPA...)|||Collectivité ou institution - Bailleurs sociaux|||Collectivité ou institution - Communes de 10 000 à 20 000 hab|||Collectivité ou institution - Communes de 2000 à 10 000 hab|||Collectivité ou institution - Communes de < 2000 hab|||Collectivité ou institution - Communes de > 20 000 hab|||Collectivité ou institution - Département|||Collectivité ou institution - EPCI|||Collectivité ou institution - EPT / Métropole du Grand Paris', 'text': \"Nom de l'aide: Soutien à la restauration et à l’aménagement du patrimoine labellisé d’intérêt régional\\nChapo: La Région contribue à préserver et favoriser l'ouverture des édifices ou ensembles labellisés d'intérêt régional. Cette démarche renforce l'attractivité touristique de l'Île-de-France, et met l'accent sur un patrimoine remarquable souvent méconnu.\\nMots clés: Patrimoine,Attractivité\"}),\n",
       " Document(page_content='Solidarités nouvelles et innovation sociale en faveur des plus précaires', metadata={\"Titre alternatif de l'aide\": nan, 'Chapô (TXT)': \"Dans le cadre de sa politique Région Solidaire, la Région Île-de-France intervient aux côtés des acteurs de terrain en promouvant des actions qui s'adressent aux Franciliens en situation de précarité. Il s'agit ici de soutenir des projets qui s'adaptent aux besoins émergents et aux nouveaux publics précaires, dans le cadre d'une démarche innovante et complémentaire des dispositifs de droit commun.\", 'Thème': 'Santé & Social : Action sociale', 'Mots clés': 'Région solidaire', 'Pour quel type de projet ? (TXT)': \"Sont considérés comme socialement innovants les projets qui apportent des réponses inédites et valorisent des solidarités nouvelles par leur objet, leur mode opératoire ou le public accompagné. Toutes les thématiques d'intervention auprès du public précaire sont concernées : aide alimentaire et produits de première nécessité, hébergement, accompagnement social, lutte contre les fractures numériques, accès aux droits, promotion de la santé. Il s’agit d’insuffler des pratiques innovantes prenant en compte la mixité des publics ou de publics peu pris en charge, la mixité des activités et de pratiques, et intégrant les enjeux du développement durable.\", 'Qui peut en bénéficier ?': 'Associations,Collectivités - Institutions', 'Précisions sur le public bénéficiaire (TXT)': 'Sont éligibles à ce dispositif : - Pour les projets en investissement : associations loi 1901, collectivités, établissements publics, fondations, GIP, SEM, mutuelles privées non lucratives, offices publics, SCI, caisses de retraite publiques et privées non lucratives, offices publics, sociétés coopératives, groupements de coopération sanitaires. - Pour les projets en fonctionnement : toute personne morale de droit public ou privé', \"Quelle est la nature de l'aide ? (TXT)\": \"La Région peut subventionner :  - Pour les projets en investissement : l'acquisition, la création, la restructuration et l’équipement de locaux, l'acquisition de matériels, d'équipements y compris numériques ainsi que de véhicules. La subvention régionale est fixée à 50 % maximum de la dépense subventionnable, dans la limite d’un plafond de subvention fixé à 400.000 €. - Pour les projets en fonctionnement : ce sont les dépenses non-amortissables et répétitives, habituelles, nécessaires au fonctionnement courant du projet (salaires, entretien des bâtiments, dépenses d’énergie, d’assurance, consommables, petit matériel et petit mobilier). Le dépôt d'une demande de subvention qui concernerait le fonctionnement et l'investissement d'un même projet est possible. Il convient pour cela de déposer 2 demandes de subvention distinctes, l'une en fonctionnement et l'autre en investissement.\", 'Quelles démarches ? (TXT)': 'Ce  dispositif est ouvert en continu vous  pouvez candidater toute l’année  Transmission du dossier via la plateforme Mes Démarches  Contact : solidarites@iledefrance.fr', 'À noter (TXT)': 'Pour toute subvention votée en conseil régional, le bénéficiaire devra respecter des obligations en matière de communication qui lui seront précisées dans la convention de partenariat.', 'Infos pratiques - Contact (TXT)': 'Service action sociale, santé, famille Contact : solidarites@iledefrance.fr', 'Engagements du bénéficiaire': 'Mesure \"Trouvez un stage\",Charte des valeurs de la République et de la laïcité', 'Date ouverture': nan, 'Date clôture': nan, 'Lien vers le portail iledefrance.fr': 'https://www.iledefrance.fr/aides-et-appels-a-projets/247', 'Démarche en ligne': False, 'qui': 'Associations|||Collectivités - Institutions', 'text': \"Nom de l'aide: Solidarités nouvelles et innovation sociale en faveur des plus précaires\\nChapo: Dans le cadre de sa politique Région Solidaire, la Région Île-de-France intervient aux côtés des acteurs de terrain en promouvant des actions qui s'adressent aux Franciliens en situation de précarité. Il s'agit ici de soutenir des projets qui s'adaptent aux besoins émergents et aux nouveaux publics précaires, dans le cadre d'une démarche innovante et complémentaire des dispositifs de droit commun.\\nMots clés: Région solidaire\"}),\n",
       " Document(page_content='Aide à la promotion des éditeurs (aide aux projets des professionnels de la chaîne du livre)', metadata={\"Titre alternatif de l'aide\": nan, 'Chapô (TXT)': 'L’aide régionale vise à accompagner la promotion des éditeurs indépendants, notamment via leur participation à des salons et foires.', 'Thème': 'Culture : Livre et lecture', 'Mots clés': nan, 'Pour quel type de projet ? (TXT)': \"Pour la promotion des éditeurs indépendants, le porteur de projet peut être : - soit un éditeur pour sa participation à plusieurs opérations (Salons, foires…); - soit un regroupement de plusieurs éditeurs pour leur participation à une ou plusieurs opérations (Salons, foires…). Critères d'attribution de l'aide : - nature de l’éditeur : valeur culturelle de la ligne éditoriale, organisation de la diffusion-distribution, être un éditeur engagé dans une démarche respectueuse de la chaîne du livre, faire de l’édition son activité principale dans les champs de la création littéraire et des sciences humaines, avoir plus d’une année d’activité ;  - stratégie liée à la participation au(x) salon(s) ;  - nature des salons et foires concernées : inscription dans la chaîne du livre, fréquentations, etc.\", 'Qui peut en bénéficier ?': 'Professionnel - ETI < 5000,Professionnel - GE > 5000,Professionnel - PME < 250,Professionnel - TPE < 10,Professionnel - Artisan ou commercant', 'Précisions sur le public bénéficiaire (TXT)': nan, \"Quelle est la nature de l'aide ? (TXT)\": 'L’aide régionale spécifique est calculée sur une base subventionnable HT à laquelle s’applique un taux modulable maximum de 50% de la dépense éligible, dans la limite d’un plafond fixé à 50 000 €.', 'Quelles démarches ? (TXT)': 'La demande est à effectuer en ligne sur la plateforme https://mesdemarches.iledefrance.fr', 'À noter (TXT)': 'Dates limites de dépôt des dossiers :  avant le 1er décembre, le 1er février ou le 1er juin. Le projet ne doit pas avoir débuté à date de sa présentation en commission, qui intervient environ 4 mois après la date-limite de dépôt. Les dépenses ne doivent pas être engagées avant la date de la commission.', 'Infos pratiques - Contact (TXT)': 'Direction de la culture - Service de la création et de la diffusionLaurence Vintéjoux, chargée de mission économie du livre, laurence.vintejoux@iledefrance.fr, 01.53.85.67.53', 'Engagements du bénéficiaire': 'Charte des valeurs de la République et de la laïcité,Mesure \"Trouvez un stage\"', 'Date ouverture': nan, 'Date clôture': nan, 'Lien vers le portail iledefrance.fr': 'https://www.iledefrance.fr/aides-et-appels-a-projets/206', 'Démarche en ligne': False, 'qui': 'Professionnel - ETI < 5000|||Professionnel - GE > 5000|||Professionnel - PME < 250|||Professionnel - TPE < 10|||Professionnel - Artisan ou commercant', 'text': nan}),\n",
       " Document(page_content='L’aide à la création dans le domaine du spectacle vivant (fonctionnement)', metadata={\"Titre alternatif de l'aide\": 'Aide à la création dans le domaine du spectacle vivant (fonctionnement)', 'Chapô (TXT)': 'La Région soutient la création dans le spectacle vivant en fonctionnement et en investissement. L’aide en fonctionnement vise à soutenir la production de spectacles en Île-de-France qui ne fait pas l’objet d’un amortissement sur plusieurs exercices.', 'Thème': 'Culture : Spectacle vivant', 'Mots clés': 'Spectacle vivant', 'Pour quel type de projet ? (TXT)': 'Critères d’éligibilité : Les répétitions, temps de création doivent se dérouler majoritairement en Île-de-France, en partenariat avec des lieux ou opérateurs du territoire,Justifier de partenariats en nature, en industrie et en numéraire d’au moins un lieu ou opérateur francilien Justifier a minima de 2 coproducteurs financiers avérés (sociétés civiles, collectivités territoriales, État ou lieux), dont 1 francilien,Avoir un minimum de diffusion en Île-de-France (en cession ou engagement direct), sur 2 saisons maximum post création :- Danse : 4 dont 2 en Île-de-France- Théâtre : 8 en Île-de-France dans au moins 2 lieux - Marionnette, conte, cirque : 4 en Île-de-France dans au moins 2 lieux - Opéra : 2 en Île-de-France- Musiques : 5 dont 2 en Île-de-France- Arts de la rue et cirque sous chapiteau : 4 dont 1 en Île-de-France- Jeune public : 10  en Île-de-France dans au moins 2 lieux', 'Qui peut en bénéficier ?': 'Association - Fondation,Association - ONG,Association - Régie par la loi de 1901,Professionnel - Culture,Collectivité ou institution - Autre (GIP, copropriété, EPA...),Collectivité ou institution - Communes de 10 000 à 20 000 hab,Collectivité ou institution - Communes de 2000 à 10 000 hab,Collectivité ou institution - Communes de < 2000 hab,Collectivité ou institution - Communes de > 20 000 hab,Collectivité ou institution - Département,Collectivité ou institution - EPCI,Collectivité ou institution - EPT / Métropole du Grand Paris', 'Précisions sur le public bénéficiaire (TXT)': 'Personnes morales de droit public, ou privé ayant au moins 1 an d’existence.  La structure doit être dotée de moyens humains, logistiques et techniques professionnels suffisants pour garantir la faisabilité du projet.  Elle doit respecter les différentes législations en vigueur.  L’équipe artistique doit être francilienne et justifier d’au moins 2 créations professionnelles diffusées antérieurement dans le champ esthétique du projet de création concerné. Pour les musiques actuelles, les arts de la rue et du cirque de création sous chapiteau, ce nombre est réduit à 1 création professionnelle diffusée antérieurement  Ne sont pas éligibles : les organismes d’enseignement artistique et les adhérents de l’Association pour le soutien du théâtre privé.', \"Quelle est la nature de l'aide ? (TXT)\": 'Le soutien régional est plafonné à 40% du budget dans la limite de 40.000€.  Lorsque le nombre de représentations en grande couronne et dans les îles de loisirs est égal ou supérieur à 20% des représentations franciliennes, le soutien régional est plafonné à 60% du budget, dans la limite de 60.000€.  Le niveau du financement régional tiendra compte du niveau d’engagement financier des autres collectivités, de l’État ou des cofinanceurs, du nombre d’artistes présents au plateau, du format de la création.  Pour candidater sur un autre projet de création, un délai de carence d’une année est appliqué.  L’aide n’est pas cumulable avec l’aide aux festivals et manifestations à rayonnement régional dans le domaine du spectacle vivant, l’aide aux réseaux franciliens dans le domaine du spectacle vivant et l’aide à la résidence territoriale.', 'Quelles démarches ? (TXT)': 'Le formulaire devra être rempli UNIQUEMENT sur la plateforme des aides régionales mesdemarches.iledefrance.fr', 'À noter (TXT)': '1re session de dépôt : du 4 octobre 2023 au 6 novembre 2023 (11h) pour des créations qui débutent à partir de janvier 2024 et une exploitation francilienne non achevée avant avril 2024 (prise en charge des dépenses possible à partir du 6 novembre 2023 et vote prévu en mars 2024).2nde session de dépôt, calendrier prévisionnel (dates à venir) : dépôt en avril 2024 pour un vote en septembre 2024.', 'Infos pratiques - Contact (TXT)': 'Chargé(e)s de mission : Barbara Constant | Théâtre et Danse| barbara.constant@iledefrance.frPaul Guerrier | Musiques actuelles | paul.guerrier@iledefrance.frMarion Langlois de Septenville | Musique et opéra      | marion.langlois-de-septenville@iledefrance.frFlorence Le Quéméner | Théâtre | florence.le-quemener@iledefrance.frOlivier Moreau | Musiques actuelles | olivier.moreau@iledefrance.frIsabelle Roux | Arts de la rue, arts du cirque, arts de la marionnette | isabelle.roux@iledefrance.fr Gestionnaire : Angélique Tobelem | angelique.tobelem@iledefrance.fr', 'Engagements du bénéficiaire': 'Mesure \"Trouvez un stage\",Charte des valeurs de la République et de la laïcité', 'Date ouverture': '2023-10-04T08:00:00+02:00', 'Date clôture': '2023-11-06T11:00:00+01:00', 'Lien vers le portail iledefrance.fr': 'https://www.iledefrance.fr/aides-et-appels-a-projets/85', 'Démarche en ligne': False, 'qui': 'Association - Fondation|||Association - ONG|||Association - Régie par la loi de 1901|||Professionnel - Culture|||Collectivité ou institution - Autre (GIP, copropriété, EPA...)|||Collectivité ou institution - Communes de 10 000 à 20 000 hab|||Collectivité ou institution - Communes de 2000 à 10 000 hab|||Collectivité ou institution - Communes de < 2000 hab|||Collectivité ou institution - Communes de > 20 000 hab|||Collectivité ou institution - Département|||Collectivité ou institution - EPCI|||Collectivité ou institution - EPT / Métropole du Grand Paris', 'text': \"Nom de l'aide: L’aide à la création dans le domaine du spectacle vivant (fonctionnement)\\nChapo: La Région soutient la création dans le spectacle vivant en fonctionnement et en investissement. L’aide en fonctionnement vise à soutenir la production de spectacles en Île-de-France qui ne fait pas l’objet d’un amortissement sur plusieurs exercices.\\nMots clés: Spectacle vivant\"}),\n",
       " Document(page_content='Aide à la restauration et à l’aménagement des maisons d’artistes remarquables', metadata={\"Titre alternatif de l'aide\": nan, 'Chapô (TXT)': 'La Région contribue à préserver et favoriser l’ouverture des maisons d’artistes au public. Ces lieux sont constitutifs du patrimoine et témoins de la présence de personnages remarquables.', 'Thème': 'Culture : Patrimoine', 'Mots clés': 'Attractivité,Patrimoine', 'Pour quel type de projet ? (TXT)': 'L’aide porte sur des opérations de travaux : Restauration du bâtiment (clos et couvert),Mesures d’urgence, Aménagements intérieurs et extérieurs.', 'Qui peut en bénéficier ?': 'Particulier - Francilien,Professionnel - Culture,Professionnel - Patrimoine,Association - Fondation,Association - ONG,Association - Régie par la loi de 1901,Collectivité ou institution - Autre (GIP, copropriété, EPA...),Collectivité ou institution - Bailleurs sociaux,Collectivité ou institution - Communes de 10 000 à 20 000 hab,Collectivité ou institution - Communes de 2000 à 10 000 hab,Collectivité ou institution - Communes de < 2000 hab,Collectivité ou institution - Communes de > 20 000 hab,Collectivité ou institution - Département,Collectivité ou institution - EPCI,Collectivité ou institution - EPT / Métropole du Grand Paris', 'Précisions sur le public bénéficiaire (TXT)': 'Sont éligibles les propriétaires publics et privés de maisons ou d’ateliers d’artistes.Les aménageurs mandatés par les collectivités territoriales peuvent être bénéficiaires. Une convention de délégation de maîtrise d’ouvrage doit avoir été signée entre la collectivité et l’aménageur.L’établissement doit avoir fait l’objet d’un projet culturel et bénéficier d’une expertise scientifique. La présence, le témoignage ou la trace tangibles de l’artiste ayant vécu sur place doivent être attestés.Les établissements bénéficiant du label délivré par la DRAC « Maisons des illustres » sont également concernés par le dispositif.', \"Quelle est la nature de l'aide ? (TXT)\": 'La subvention est calculée par application d’un taux d’intervention de 40% maximum des dépenses éligibles correspondant au coût des travaux et aux honoraires de maîtrise d’œuvre, à l’exclusion des postes de dépenses suivants : Acquisitions foncières, études préalables, assurances dommage ouvrage, travaux de démolition préalable, travaux de dépollution, travaux de voirie et réseaux divers.L’aide régionale est plafonnée à 500.000€.', 'Quelles démarches ? (TXT)': 'Les demandes d’aide devront être déposées sur mesdemarches.iledefrance.fr, la plateforme des aides régionales.', 'À noter (TXT)': 'Ouverture permanente', 'Infos pratiques - Contact (TXT)': 'Direction de la CultureService Patrimoines et inventaire  Chargée de mission pour les départements 75, 77, 92, 93Héloïse Mailléheloise.maille-virole@iledefrance.fr Chargé de mission pour les départements 78, 91, 94, 95Kamel Kacihikamel.kacihi@iledefrance.fr', 'Engagements du bénéficiaire': 'Charte des valeurs de la République et de la laïcité,Mesure \"Trouvez un stage\"', 'Date ouverture': nan, 'Date clôture': nan, 'Lien vers le portail iledefrance.fr': 'https://www.iledefrance.fr/aides-et-appels-a-projets/204', 'Démarche en ligne': False, 'qui': 'Particulier - Francilien|||Professionnel - Culture|||Professionnel - Patrimoine|||Association - Fondation|||Association - ONG|||Association - Régie par la loi de 1901|||Collectivité ou institution - Autre (GIP, copropriété, EPA...)|||Collectivité ou institution - Bailleurs sociaux|||Collectivité ou institution - Communes de 10 000 à 20 000 hab|||Collectivité ou institution - Communes de 2000 à 10 000 hab|||Collectivité ou institution - Communes de < 2000 hab|||Collectivité ou institution - Communes de > 20 000 hab|||Collectivité ou institution - Département|||Collectivité ou institution - EPCI|||Collectivité ou institution - EPT / Métropole du Grand Paris', 'text': \"Nom de l'aide: Aide à la restauration et à l’aménagement des maisons d’artistes remarquables\\nChapo: La Région contribue à préserver et favoriser l’ouverture des maisons d’artistes au public. Ces lieux sont constitutifs du patrimoine et témoins de la présence de personnages remarquables.\\nMots clés: Attractivité,Patrimoine\"}),\n",
       " Document(page_content='PROXITE : Programme « Lycées Pro : construire les possibles »', metadata={\"Titre alternatif de l'aide\": 'École-Entreprise - Proxité : Programme « Lycées Pro : construire les possibles »', 'Chapô (TXT)': \"Ce programme de la Région a pour objectif d'accompagner les jeunes issus des filières professionnelles pour multiplier les ponts entre la jeunesse et le monde du travail en mêlant mentorat et temps d’animation collectif autour du monde professionnel.\", 'Thème': 'Éducation & recherche : Lycée', 'Mots clés': nan, 'Pour quel type de projet ? (TXT)': \"Proposer aux jeunes de quartiers prioritaires, les moyens de se remobiliser pour se réapproprier leur parcours à travers : Une programmation de temps collectifs sur-mesure, respectueuse des parcours des et préparée en collaboration avec les équipes éducatives. Thématiques complémentaires du programme scolaire. Ces ateliers ont pour objectif la découverte du monde professionnel à travers la découverte de métiers (visite d'entreprises et rencontres de professionnels) et d’ateliers thématiques visant à travailler l'orientation, la méthodologie de travail, les « softs skills », mais aussi des actions ponctuelles comme la recherche de stage...Le mentorat : mise en relation avec un parrain/marraine actif dans le monde du travail pour un accompagnement individualisé. Ce lien entre générations favorise et encourage scolairement et professionnellement les filleuls.\", 'Qui peut en bénéficier ?': \"Particulier - Lycéen,Établissement d'enseignement secondaire\", 'Précisions sur le public bénéficiaire (TXT)': 'À destination des élèves et des membres des équipes éducatives des lycées franciliens.', \"Quelle est la nature de l'aide ? (TXT)\": \"Gratuité de l'action pour les établissements franciliens.\", 'Quelles démarches ? (TXT)': 'Pour bénéficier de ce programme, il convient de s’inscrire directement auprès de l’association Proxité.', 'À noter (TXT)': nan, 'Infos pratiques - Contact (TXT)': 'Clarissa Kaiser, déléguée régionale Île-de-France chez Proxité  Email : c.kaiser@proxite.com    Tél. : 07 50 01 41 54', 'Engagements du bénéficiaire': nan, 'Date ouverture': '2023-09-01T00:00:00+02:00', 'Date clôture': '2024-06-30T22:00:00+02:00', 'Lien vers le portail iledefrance.fr': 'https://www.iledefrance.fr/aides-et-appels-a-projets/629', 'Démarche en ligne': False, 'qui': \"Particulier - Lycéen|||Établissement d'enseignement secondaire\", 'text': nan})]"
      ]
     },
     "execution_count": 8,
     "metadata": {},
     "output_type": "execute_result"
    }
   ],
   "source": [
    "loader = DataFrameLoader(df, page_content_column=\"Nom de l'aide / de la démarche\")\n",
    "data = loader.load()\n",
    "data[:10]"
   ]
  },
  {
   "cell_type": "markdown",
   "metadata": {},
   "source": [
    "### Méthode 1 - Vector database simple"
   ]
  },
  {
   "cell_type": "code",
   "execution_count": 9,
   "metadata": {},
   "outputs": [
    {
     "data": {
      "text/plain": [
       "[Document(page_content='RÊV’ELLES : Programme « RVL Découverte »', metadata={\"Titre alternatif de l'aide\": 'Olympe - Rêv’Elles : Programme « RVL Découverte »', 'Chapô (TXT)': 'Ce programme de la Région a pour ambition de faire découvrir aux jeunes filles un grand nombre de secteurs et de métiers avec des objectifs pédagogiques d’ouverture du champ des possibles, d’affranchissement des déterminismes et de pouvoir d’agir.', 'Thème': 'Éducation & recherche : Lycée', 'Mots clés': 'Egalité femmes/hommes', 'Pour quel type de projet ? (TXT)': \"RVL Découverte fait découvrir les différents métiers et secteurs d’activités aux jeunes filles et les accompagne à dépasser stéréotypes de genre, difficultés de représentation des métiers, biais d’orientation et autocensure.Sensibilisation sur la déconstruction des croyances limitantes auprès d’établissements scolaires ou de structures jeunesse.Programme RVL Ton Potentiel : parcours intensif de 5 jours puis suivi de 5 mois avec coachings collectifs et individuels pour booster projet professionnel et confiance en soi. Coachs formées à la pédagogie « Rêv’Elles » et rencontres de figures féminines inspirantes, des « Rôles Modèles »  témoignant de leurs carrières et métiers. « Rêv'Elles » propose ensuite des parcours de 3 jours comprenant plusieurs formats (visites, ateliers, forums)  pour permettre aux jeunes filles la découverte de nouveaux métiers/secteurs.\", 'Qui peut en bénéficier ?': \"Établissement d'enseignement secondaire,Particulier - Lycéen\", 'Précisions sur le public bénéficiaire (TXT)': 'Les jeunes femmes des lycées francilien.', \"Quelle est la nature de l'aide ? (TXT)\": 'Action gratuite pour les lycées franciliens.', 'Quelles démarches ? (TXT)': 'Pour bénéficier de ce programme, s’inscrire directement auprès de l’association Rêv’Elles.', 'À noter (TXT)': nan, 'Infos pratiques - Contact (TXT)': 'Marie Castanet, responsable des programmes et du développement en Île-de-France  Email : marie.castanet@revelles.org Tél. : 06 21 85 41 21', 'Engagements du bénéficiaire': nan, 'Date ouverture': '2023-09-01T00:00:00+02:00', 'Date clôture': '2024-06-30T00:00:00+02:00', 'Lien vers le portail iledefrance.fr': 'https://www.iledefrance.fr/aides-et-appels-a-projets/646', 'Démarche en ligne': False, 'qui': \"Établissement d'enseignement secondaire|||Particulier - Lycéen\", 'text': \"Nom de l'aide: RÊV’ELLES : Programme « RVL Découverte »\\nChapo: Ce programme de la Région a pour ambition de faire découvrir aux jeunes filles un grand nombre de secteurs et de métiers avec des objectifs pédagogiques d’ouverture du champ des possibles, d’affranchissement des déterminismes et de pouvoir d’agir.\\nMots clés: Egalité femmes/hommes\"}),\n",
       " Document(page_content='Appel à projets Actions de formation en situation de travail (AFEST)', metadata={\"Titre alternatif de l'aide\": 'Appel à projets Actions de formation en situation de travail (AFEST)', 'Chapô (TXT)': \"La Région soutient des actions de formation innovantes qui valorisent la situation de travail apprenante au sein de l’entreprise et offrent une nouvelle chance de qualification et d'accès à l'emploi aux demandeurs d’emploi bénéficiaires de l'AFEST.\", 'Thème': 'Emploi & formation : Formation professionnelle,Emploi & formation : Emploi', 'Mots clés': 'Emploi', 'Pour quel type de projet ? (TXT)': 'Les projets soutenus sont des actions de formation innovantes qui valorisent la situation de travail apprenante au sein de l’entreprise.  Elles s’adressent aux demandeurs d’emploi inscrits dans une agence Pôle emploi francilienne. Et plus particulièrement les publics du Plan régional d’investissement dans les compétences (PRIC), à savoir les demandeurs d’emploi peu ou pas qualifiés, dont les jeunes de 16 à 25 ans inclus.  La formation en situation de travail doit représenter au moins 70% du temps total de l’action de formation proposée.   Les projets incluant un engagement de l’entreprise pour le recrutement en emploi à la sortie de la formation seront étudiés attentivement.  À noter que les personnes participant aux actions retenues ont le statut de « stagiaires de la formation professionnelle » et peuvent, à ce titre, bénéficier d’une protection sociale et d’une rémunération.', 'Qui peut en bénéficier ?': \"Établissement ou organismes de formation (OF, OPCO, FSS, CFA...),Association - Régie par la loi de 1901,Association - ONG,Association - Fondation,Professionnel - Créateur d'entreprise,Professionnel - TPE < 10,Professionnel - PME < 250,Professionnel - ETI < 5000,Professionnel - GE > 5000\", 'Précisions sur le public bénéficiaire (TXT)': 'Les porteurs éligibles sont : Les entreprises, Les organismes de formation, Les opérateurs de compétences (OPCO)...Une attention particulière sera portée aux projets de consortiums constitués d’entreprises et d’organismes de formation proposant des synergies partenariales.', \"Quelle est la nature de l'aide ? (TXT)\": \"Le taux d'intervention maximum sur le projet sera de 70% ou 80% en fonction du régime d'aides d'État.Le complément financier du projet doit être apporté par un ou plusieurs cofinancements et/ou d’un financement sur fonds propres. La subvention régionale vise à couvrir uniquement les dépenses de fonctionnement. Les dépenses d’ingénierie, de formation et d’évaluation constituent l’assiette éligible au financement. Les dépenses de formation concernées sont uniquement celles liées à la mise en œuvre de l’AFEST.\", 'Quelles démarches ? (TXT)': 'Les dossiers devront être déposés sur mesdemarches.iledefrance.fr, la plateforme des aides régionales.', 'À noter (TXT)': nan, 'Infos pratiques - Contact (TXT)': 'aap.afest@iledefrance.fr  Les questions sur AAP AFEST peuvent être posées jusqu’au jeudi 29 septembre 2022 à 17h.', 'Engagements du bénéficiaire': 'Charte des valeurs de la République et de la laïcité,Mesure \"Trouvez un stage\"', 'Date ouverture': '2022-07-07T00:00:00+02:00', 'Date clôture': '2022-09-30T23:59:00+02:00', 'Lien vers le portail iledefrance.fr': 'https://www.iledefrance.fr/aides-et-appels-a-projets/557', 'Démarche en ligne': False, 'qui': \"Établissement ou organismes de formation (OF, OPCO, FSS, CFA...)|||Association - Régie par la loi de 1901|||Association - ONG|||Association - Fondation|||Professionnel - Créateur d'entreprise|||Professionnel - TPE < 10|||Professionnel - PME < 250|||Professionnel - ETI < 5000|||Professionnel - GE > 5000\", 'text': \"Nom de l'aide: Appel à projets Actions de formation en situation de travail (AFEST)\\nChapo: La Région soutient des actions de formation innovantes qui valorisent la situation de travail apprenante au sein de l’entreprise et offrent une nouvelle chance de qualification et d'accès à l'emploi aux demandeurs d’emploi bénéficiaires de l'AFEST.\\nMots clés: Emploi\"})]"
      ]
     },
     "execution_count": 9,
     "metadata": {},
     "output_type": "execute_result"
    }
   ],
   "source": [
    "text_splitter = RecursiveCharacterTextSplitter(chunk_size=1000, chunk_overlap=0)\n",
    "\n",
    "docs = text_splitter.split_documents(data)\n",
    "docs[:2]"
   ]
  },
  {
   "cell_type": "code",
   "execution_count": 10,
   "metadata": {},
   "outputs": [
    {
     "name": "stderr",
     "output_type": "stream",
     "text": [
      "/Users/quentinfisch/Documents/EPITA/ING3/SCIA/S9/ALEIA/.venv/lib/python3.11/site-packages/tqdm/auto.py:21: TqdmWarning: IProgress not found. Please update jupyter and ipywidgets. See https://ipywidgets.readthedocs.io/en/stable/user_install.html\n",
      "  from .autonotebook import tqdm as notebook_tqdm\n"
     ]
    }
   ],
   "source": [
    "# use distilbert to embed the text\n",
    "modelPath = \"sentence-transformers/all-MiniLM-l6-v2\"\n",
    "\n",
    "# Create a dictionary with model configuration options, specifying to use the CPU for computations\n",
    "model_kwargs = {'device':'cpu'}\n",
    "\n",
    "# Create a dictionary with encoding options, specifically setting 'normalize_embeddings' to False\n",
    "encode_kwargs = {'normalize_embeddings': False}\n",
    "\n",
    "# Initialize an instance of HuggingFaceEmbeddings with the specified parameters\n",
    "embeddings = HuggingFaceEmbeddings(\n",
    "    model_name=modelPath,     # Provide the pre-trained model's path\n",
    "    model_kwargs=model_kwargs, # Pass the model configuration options\n",
    "    encode_kwargs=encode_kwargs # Pass the encoding options\n",
    ")"
   ]
  },
  {
   "cell_type": "code",
   "execution_count": 11,
   "metadata": {},
   "outputs": [],
   "source": [
    "db = FAISS.from_documents(docs, embeddings)"
   ]
  },
  {
   "cell_type": "code",
   "execution_count": 12,
   "metadata": {},
   "outputs": [
    {
     "name": "stdout",
     "output_type": "stream",
     "text": [
      "Renouvellement des chauffages au fuel, au bois ou au charbon\n"
     ]
    }
   ],
   "source": [
    "question = \"Mon logement tombe en ruines. Il faudrait le rénover. Est-ce qu'il y a une aide régionale pour ça?\"\n",
    "searchDocs = db.similarity_search(question)\n",
    "print(searchDocs[0].page_content)"
   ]
  },
  {
   "cell_type": "markdown",
   "metadata": {},
   "source": [
    "### Méthode 2: Langchain + LLM (GPT-3.5-turbo)"
   ]
  },
  {
   "cell_type": "code",
   "execution_count": 14,
   "metadata": {},
   "outputs": [],
   "source": [
    "os.environ[\"TOKENIZERS_PARALLELISM\"] = 'true'"
   ]
  },
  {
   "cell_type": "code",
   "execution_count": 66,
   "metadata": {},
   "outputs": [
    {
     "data": {
      "text/plain": [
       "[Document(page_content='RÊV’ELLES : Programme « RVL Découverte »', metadata={\"Titre alternatif de l'aide\": 'Olympe - Rêv’Elles : Programme « RVL Découverte »', 'Chapô (TXT)': 'Ce programme de la Région a pour ambition de faire découvrir aux jeunes filles un grand nombre de secteurs et de métiers avec des objectifs pédagogiques d’ouverture du champ des possibles, d’affranchissement des déterminismes et de pouvoir d’agir.', 'Thème': 'Éducation & recherche : Lycée', 'Mots clés': 'Egalité femmes/hommes', 'Pour quel type de projet ? (TXT)': \"RVL Découverte fait découvrir les différents métiers et secteurs d’activités aux jeunes filles et les accompagne à dépasser stéréotypes de genre, difficultés de représentation des métiers, biais d’orientation et autocensure.Sensibilisation sur la déconstruction des croyances limitantes auprès d’établissements scolaires ou de structures jeunesse.Programme RVL Ton Potentiel : parcours intensif de 5 jours puis suivi de 5 mois avec coachings collectifs et individuels pour booster projet professionnel et confiance en soi. Coachs formées à la pédagogie « Rêv’Elles » et rencontres de figures féminines inspirantes, des « Rôles Modèles »  témoignant de leurs carrières et métiers. « Rêv'Elles » propose ensuite des parcours de 3 jours comprenant plusieurs formats (visites, ateliers, forums)  pour permettre aux jeunes filles la découverte de nouveaux métiers/secteurs.\", 'Qui peut en bénéficier ?': \"Établissement d'enseignement secondaire,Particulier - Lycéen\", 'Précisions sur le public bénéficiaire (TXT)': 'Les jeunes femmes des lycées francilien.', \"Quelle est la nature de l'aide ? (TXT)\": 'Action gratuite pour les lycées franciliens.', 'Quelles démarches ? (TXT)': 'Pour bénéficier de ce programme, s’inscrire directement auprès de l’association Rêv’Elles.', 'À noter (TXT)': nan, 'Infos pratiques - Contact (TXT)': 'Marie Castanet, responsable des programmes et du développement en Île-de-France  Email : marie.castanet@revelles.org Tél. : 06 21 85 41 21', 'Engagements du bénéficiaire': nan, 'Date ouverture': '2023-09-01T00:00:00+02:00', 'Date clôture': '2024-06-30T00:00:00+02:00', 'Lien vers le portail iledefrance.fr': 'https://www.iledefrance.fr/aides-et-appels-a-projets/646', 'Démarche en ligne': False, 'qui': \"Établissement d'enseignement secondaire|||Particulier - Lycéen\"}),\n",
       " Document(page_content='Appel à projets Actions de formation en situation de travail (AFEST)', metadata={\"Titre alternatif de l'aide\": 'Appel à projets Actions de formation en situation de travail (AFEST)', 'Chapô (TXT)': \"La Région soutient des actions de formation innovantes qui valorisent la situation de travail apprenante au sein de l’entreprise et offrent une nouvelle chance de qualification et d'accès à l'emploi aux demandeurs d’emploi bénéficiaires de l'AFEST.\", 'Thème': 'Emploi & formation : Formation professionnelle,Emploi & formation : Emploi', 'Mots clés': 'Emploi', 'Pour quel type de projet ? (TXT)': 'Les projets soutenus sont des actions de formation innovantes qui valorisent la situation de travail apprenante au sein de l’entreprise.  Elles s’adressent aux demandeurs d’emploi inscrits dans une agence Pôle emploi francilienne. Et plus particulièrement les publics du Plan régional d’investissement dans les compétences (PRIC), à savoir les demandeurs d’emploi peu ou pas qualifiés, dont les jeunes de 16 à 25 ans inclus.  La formation en situation de travail doit représenter au moins 70% du temps total de l’action de formation proposée.   Les projets incluant un engagement de l’entreprise pour le recrutement en emploi à la sortie de la formation seront étudiés attentivement.  À noter que les personnes participant aux actions retenues ont le statut de « stagiaires de la formation professionnelle » et peuvent, à ce titre, bénéficier d’une protection sociale et d’une rémunération.', 'Qui peut en bénéficier ?': \"Établissement ou organismes de formation (OF, OPCO, FSS, CFA...),Association - Régie par la loi de 1901,Association - ONG,Association - Fondation,Professionnel - Créateur d'entreprise,Professionnel - TPE < 10,Professionnel - PME < 250,Professionnel - ETI < 5000,Professionnel - GE > 5000\", 'Précisions sur le public bénéficiaire (TXT)': 'Les porteurs éligibles sont : Les entreprises, Les organismes de formation, Les opérateurs de compétences (OPCO)...Une attention particulière sera portée aux projets de consortiums constitués d’entreprises et d’organismes de formation proposant des synergies partenariales.', \"Quelle est la nature de l'aide ? (TXT)\": \"Le taux d'intervention maximum sur le projet sera de 70% ou 80% en fonction du régime d'aides d'État.Le complément financier du projet doit être apporté par un ou plusieurs cofinancements et/ou d’un financement sur fonds propres. La subvention régionale vise à couvrir uniquement les dépenses de fonctionnement. Les dépenses d’ingénierie, de formation et d’évaluation constituent l’assiette éligible au financement. Les dépenses de formation concernées sont uniquement celles liées à la mise en œuvre de l’AFEST.\", 'Quelles démarches ? (TXT)': 'Les dossiers devront être déposés sur mesdemarches.iledefrance.fr, la plateforme des aides régionales.', 'À noter (TXT)': nan, 'Infos pratiques - Contact (TXT)': 'aap.afest@iledefrance.fr  Les questions sur AAP AFEST peuvent être posées jusqu’au jeudi 29 septembre 2022 à 17h.', 'Engagements du bénéficiaire': 'Charte des valeurs de la République et de la laïcité,Mesure \"Trouvez un stage\"', 'Date ouverture': '2022-07-07T00:00:00+02:00', 'Date clôture': '2022-09-30T23:59:00+02:00', 'Lien vers le portail iledefrance.fr': 'https://www.iledefrance.fr/aides-et-appels-a-projets/557', 'Démarche en ligne': False, 'qui': \"Établissement ou organismes de formation (OF, OPCO, FSS, CFA...)|||Association - Régie par la loi de 1901|||Association - ONG|||Association - Fondation|||Professionnel - Créateur d'entreprise|||Professionnel - TPE < 10|||Professionnel - PME < 250|||Professionnel - ETI < 5000|||Professionnel - GE > 5000\"})]"
      ]
     },
     "execution_count": 66,
     "metadata": {},
     "output_type": "execute_result"
    }
   ],
   "source": [
    "loader = DataFrameLoader(df, page_content_column=\"Nom de l'aide / de la démarche\")\n",
    "data = loader.load()\n",
    "\n",
    "text_splitter = RecursiveCharacterTextSplitter(chunk_size=1000, chunk_overlap=0)\n",
    "docs = text_splitter.split_documents(data)\n",
    "docs[:2]"
   ]
  },
  {
   "cell_type": "code",
   "execution_count": 70,
   "metadata": {},
   "outputs": [],
   "source": [
    "embeddings = OpenAIEmbeddings()\n",
    "vector_store = Chroma.from_documents(docs, embeddings)\n",
    "retriever = vector_store.as_retriever(search_kwargs={\"k\": 4}, search_type=\"similarity\")"
   ]
  },
  {
   "cell_type": "code",
   "execution_count": 86,
   "metadata": {},
   "outputs": [],
   "source": [
    "prompt = hub.pull(\"rlm/rag-prompt\")\n",
    "llm = ChatOpenAI(model_name=\"gpt-3.5-turbo\", temperature=0)\n",
    "\n",
    "\n",
    "def format_docs(docs):\n",
    "    return \"\\n\\n\".join(doc.page_content for doc in docs)\n",
    "\n",
    "template = \"\"\"\n",
    "Voici les différentes aides que le client peut obtenir:\n",
    "{context}\n",
    "\n",
    "Tu dois répondre en détaillant les 2 aides qui te semblent les plus pertinentes pour le client. Pour chaque aide, indique le nom de l'aide tel qu'il est écrit dans le document, puis une description globale de l'aide.\n",
    "\n",
    "La question posée par le client est la suivante:\n",
    "{question}\n",
    "\"\"\"\n",
    "prompt = ChatPromptTemplate.from_template(template)\n",
    "\n",
    "rag_chain = (\n",
    "    {\"context\": retriever | format_docs, \"question\": RunnablePassthrough()}\n",
    "    | prompt\n",
    "    | llm\n",
    "    | StrOutputParser()\n",
    ")"
   ]
  },
  {
   "cell_type": "markdown",
   "metadata": {},
   "source": [
    "#### Test 1: recherche d'aide à partir d'une question générique"
   ]
  },
  {
   "cell_type": "code",
   "execution_count": 87,
   "metadata": {},
   "outputs": [
    {
     "name": "stdout",
     "output_type": "stream",
     "text": [
      "Les deux aides les plus pertinentes pour le client qui souhaite passer à la voiture électrique sont :\n",
      "\n",
      "1. Plan route de demain : Électromobilité\n",
      "Cette aide consiste en un plan d'action complet pour faciliter la transition vers l'électromobilité. Il comprend des conseils personnalisés sur le choix du véhicule électrique, l'installation de bornes de recharge à domicile, les avantages fiscaux liés à l'achat d'un véhicule électrique, ainsi que des informations sur les infrastructures de recharge publiques disponibles. Le plan route de demain : Électromobilité vise à accompagner le client à chaque étape de sa transition vers la voiture électrique, en lui fournissant toutes les informations et les ressources nécessaires.\n",
      "\n",
      "2. Transformation de véhicules thermiques en véhicules propres\n",
      "Cette aide permet au client de transformer son véhicule thermique en un véhicule propre, en le convertissant à l'électromobilité. Elle offre des subventions pour la conversion de moteurs thermiques en moteurs électriques, ainsi que des incitations fiscales pour l'achat de batteries et d'autres composants nécessaires à la conversion. Cette aide est particulièrement pertinente pour les clients qui souhaitent passer à la voiture électrique mais qui ne peuvent pas se permettre d'acheter un nouveau véhicule électrique. Elle leur offre une alternative abordable pour réduire leur empreinte carbone et contribuer à la transition vers des transports plus durables.\n"
     ]
    }
   ],
   "source": [
    "print(rag_chain.invoke(\"Je veux passer à la voiture électrique\"))"
   ]
  },
  {
   "cell_type": "code",
   "execution_count": 18,
   "metadata": {},
   "outputs": [
    {
     "name": "stdout",
     "output_type": "stream",
     "text": [
      "Les deux aides les plus pertinentes pour le client qui souhaite acheter un food truck électrique sont :\n",
      "\n",
      "1. Commerce ou artisanat ambulant : acquisition de véhicules propres\n",
      "Cette aide est spécifiquement destinée aux commerçants ou artisans ambulants qui souhaitent acquérir un véhicule propre, tel qu'un food truck électrique. Elle peut prendre la forme d'une subvention ou d'une aide financière pour faciliter l'achat du véhicule. Cette aide est particulièrement pertinente car elle est spécifiquement conçue pour soutenir les professionnels qui souhaitent investir dans des véhicules propres, ce qui correspond aux besoins du client.\n",
      "\n",
      "2. Acquisition de véhicules propres par les professionnels franciliens\n",
      "Cette aide est destinée aux professionnels de la région francilienne qui souhaitent acquérir des véhicules propres, y compris les food trucks électriques. Elle peut prendre la forme d'une subvention ou d'une aide financière pour réduire le coût d'achat du véhicule. Cette aide est pertinente car elle est spécifiquement destinée aux professionnels de la région, ce qui signifie que le client peut bénéficier d'un soutien local pour son projet d'achat de food truck électrique. De plus, cette aide met l'accent sur les véhicules propres, ce qui correspond aux besoins du client en matière de durabilité et de respect de l'environnement.\n"
     ]
    }
   ],
   "source": [
    "print(rag_chain.invoke(\"Je veux acheter un food truck électrique\"))"
   ]
  },
  {
   "cell_type": "markdown",
   "metadata": {},
   "source": [
    "Les résultats sont pertinents et permettent de créer un chatbot qui indique à l'utilisateur les différentes aides auxquelles il peut prétendre en fonction de sa situation."
   ]
  },
  {
   "cell_type": "markdown",
   "metadata": {},
   "source": [
    "#### Test 2: demande d'informations sur une aide"
   ]
  },
  {
   "cell_type": "code",
   "execution_count": 27,
   "metadata": {},
   "outputs": [
    {
     "data": {
      "text/plain": [
       "'Déposez sur mesdemarches.iledefrance.fr votre dossier de demande de subvention présentant le projet de manière précise et comportant toutes les pièces permettant l’instruction du dossier, réputé complet, par les services de la Région. Après examen du dossier, la demande de subvention sera soumise à la Commission permanente régionale pour délibération.  Le versement de la subvention est subordonné à la signature préalable d’une convention.'"
      ]
     },
     "execution_count": 27,
     "metadata": {},
     "output_type": "execute_result"
    }
   ],
   "source": [
    "df[df[\"Nom de l\\'aide / de la démarche\"] == \"Plan route de demain : Électromobilité\"][\"Quelles démarches ? (TXT)\"].item()"
   ]
  },
  {
   "cell_type": "code",
   "execution_count": 19,
   "metadata": {},
   "outputs": [
    {
     "name": "stdout",
     "output_type": "stream",
     "text": [
      "Pour bénéficier de l'aide \"Plan route de demain : Électromobilité\", le client devra suivre les démarches suivantes :\n",
      "\n",
      "1. Renseignement sur les critères d'éligibilité : Le client devra se renseigner sur les critères d'éligibilité spécifiques à cette aide. Il peut s'agir de critères liés au type de véhicule électrique, à la localisation géographique, aux revenus, etc. Il est important de vérifier si le client remplit toutes les conditions requises pour bénéficier de cette aide.\n",
      "\n",
      "2. Collecte des documents nécessaires : Le client devra rassembler tous les documents requis pour constituer son dossier de demande d'aide. Cela peut inclure des pièces d'identité, des justificatifs de domicile, des factures d'achat ou de location du véhicule électrique, des preuves de revenus, etc. Il est essentiel de s'assurer d'avoir tous les documents demandés pour éviter tout retard dans le traitement de la demande.\n",
      "\n",
      "3. Remplissage du formulaire de demande : Le client devra remplir le formulaire de demande d'aide spécifique à l'électromobilité. Ce formulaire peut être disponible en ligne sur le site web de l'organisme en charge de l'aide ou peut être obtenu en se rendant physiquement à un guichet d'accueil. Le client devra fournir toutes les informations demandées de manière précise et complète.\n",
      "\n",
      "4. Soumission du dossier : Une fois que le formulaire de demande est dûment rempli et tous les documents requis sont rassemblés, le client devra soumettre son dossier complet à l'organisme en charge de l'aide. Cela peut se faire en ligne, par courrier ou en se rendant directement à un guichet d'accueil. Il est important de respecter les délais de soumission indiqués pour éviter tout rejet de la demande.\n",
      "\n",
      "5. Suivi de la demande : Après avoir soumis sa demande, le client devra suivre régulièrement l'avancement de son dossier. Il peut contacter l'organisme en charge de l'aide pour obtenir des informations sur le traitement de sa demande, les délais de réponse, etc. Il est recommandé de conserver une copie de tous les documents envoyés et de noter les échanges avec l'organisme pour faciliter le suivi.\n",
      "\n",
      "Il est à noter que les démarches spécifiques peuvent varier en fonction de l'organisme en charge de l'aide et des réglementations en vigueur dans la région du client. Il est donc important de se référer aux informations fournies par l'organisme concerné pour obtenir des instructions précises sur les démarches à suivre.\n"
     ]
    }
   ],
   "source": [
    "print(rag_chain.invoke(\"Concernant l'aide 'Plan route de demain : Électromobilité', quelles sont les démarches à faire ?\"))"
   ]
  },
  {
   "cell_type": "markdown",
   "metadata": {},
   "source": [
    "Concernant la recherche d'informations plus détaillée dans pour une aide, la réponse est pertinente mais ne contient pas tous les éléments indiqué dans les données initiales."
   ]
  },
  {
   "cell_type": "code",
   "execution_count": 25,
   "metadata": {},
   "outputs": [
    {
     "data": {
      "text/html": [
       "<div>\n",
       "<style scoped>\n",
       "    .dataframe tbody tr th:only-of-type {\n",
       "        vertical-align: middle;\n",
       "    }\n",
       "\n",
       "    .dataframe tbody tr th {\n",
       "        vertical-align: top;\n",
       "    }\n",
       "\n",
       "    .dataframe thead th {\n",
       "        text-align: right;\n",
       "    }\n",
       "</style>\n",
       "<table border=\"1\" class=\"dataframe\">\n",
       "  <thead>\n",
       "    <tr style=\"text-align: right;\">\n",
       "      <th></th>\n",
       "      <th>Id_AideQuestion_Num</th>\n",
       "      <th>ID</th>\n",
       "      <th>Questions</th>\n",
       "      <th>titre</th>\n",
       "    </tr>\n",
       "  </thead>\n",
       "  <tbody>\n",
       "    <tr>\n",
       "      <th>0</th>\n",
       "      <td>51</td>\n",
       "      <td>635</td>\n",
       "      <td>Je voudrais pouvoir moderniser mon exploitatio...</td>\n",
       "      <td>FEADER - Soutien aux investissements agricoles...</td>\n",
       "    </tr>\n",
       "    <tr>\n",
       "      <th>1</th>\n",
       "      <td>158</td>\n",
       "      <td>595</td>\n",
       "      <td>j'en ai marre de paris et sa petite couronne. ...</td>\n",
       "      <td>FEADER - Aide à l'installation du jeune agricu...</td>\n",
       "    </tr>\n",
       "    <tr>\n",
       "      <th>2</th>\n",
       "      <td>218</td>\n",
       "      <td>80</td>\n",
       "      <td>Nous cherchons à créer un réseau de chaleur ba...</td>\n",
       "      <td>Développement d'unités de méthanisation (études)</td>\n",
       "    </tr>\n",
       "    <tr>\n",
       "      <th>3</th>\n",
       "      <td>259</td>\n",
       "      <td>364</td>\n",
       "      <td>Je suis un producteur de laitue en difficulté ...</td>\n",
       "      <td>Soutien à l’agriculture dans les zones périurb...</td>\n",
       "    </tr>\n",
       "    <tr>\n",
       "      <th>4</th>\n",
       "      <td>279</td>\n",
       "      <td>79</td>\n",
       "      <td>Quels sont les aides pour la methanisation ?</td>\n",
       "      <td>Développement d’unités de méthanisation</td>\n",
       "    </tr>\n",
       "  </tbody>\n",
       "</table>\n",
       "</div>"
      ],
      "text/plain": [
       "   Id_AideQuestion_Num   ID  \\\n",
       "0                   51  635   \n",
       "1                  158  595   \n",
       "2                  218   80   \n",
       "3                  259  364   \n",
       "4                  279   79   \n",
       "\n",
       "                                           Questions  \\\n",
       "0  Je voudrais pouvoir moderniser mon exploitatio...   \n",
       "1  j'en ai marre de paris et sa petite couronne. ...   \n",
       "2  Nous cherchons à créer un réseau de chaleur ba...   \n",
       "3  Je suis un producteur de laitue en difficulté ...   \n",
       "4       Quels sont les aides pour la methanisation ?   \n",
       "\n",
       "                                               titre  \n",
       "0  FEADER - Soutien aux investissements agricoles...  \n",
       "1  FEADER - Aide à l'installation du jeune agricu...  \n",
       "2   Développement d'unités de méthanisation (études)  \n",
       "3  Soutien à l’agriculture dans les zones périurb...  \n",
       "4            Développement d’unités de méthanisation  "
      ]
     },
     "execution_count": 25,
     "metadata": {},
     "output_type": "execute_result"
    }
   ],
   "source": [
    "df_questions = pd.read_excel(\"Aides_Questions.xlsx\")\n",
    "df_questions.head()"
   ]
  },
  {
   "cell_type": "code",
   "execution_count": 29,
   "metadata": {},
   "outputs": [
    {
     "data": {
      "text/plain": [
       "'FEADER - Soutien aux investissements agricoles - Modernisation des exploitations (73.01.01)'"
      ]
     },
     "execution_count": 29,
     "metadata": {},
     "output_type": "execute_result"
    }
   ],
   "source": [
    "df_questions[\"titre\"][0]"
   ]
  },
  {
   "cell_type": "code",
   "execution_count": 42,
   "metadata": {},
   "outputs": [
    {
     "name": "stdout",
     "output_type": "stream",
     "text": [
      "Les deux aides les plus pertinentes pour le client sont :\n",
      "\n",
      "1. Aide à la transformation agroalimentaire francilienne :\n",
      "Cette aide vise à soutenir les agriculteurs dans la modernisation de leurs exploitations en favorisant la transformation de leurs produits agricoles. Elle permet notamment d'accompagner financièrement les investissements liés à l'amélioration des équipements de transformation, à l'innovation technologique, à la mise en conformité sanitaire, à la diversification des produits, etc. Cette aide est spécifiquement dédiée aux agriculteurs franciliens et vise à renforcer la compétitivité et la valorisation des produits agricoles de la région.\n",
      "\n",
      "2. FEADER - Soutien aux investissements agricoles - Modernisation des exploitations (73.01.01) :\n",
      "Cette aide du Fonds européen agricole pour le développement rural (FEADER) vise à soutenir les investissements agricoles visant à moderniser les exploitations. Elle permet de financer des projets tels que l'acquisition de matériel agricole performant, la construction ou la rénovation de bâtiments agricoles, l'installation de systèmes d'irrigation efficaces, etc. Cette aide est ouverte à tous les agriculteurs et vise à améliorer la productivité, la compétitivité et la durabilité des exploitations agricoles.\n"
     ]
    }
   ],
   "source": [
    "print(rag_chain.invoke(df_questions[\"Questions\"][0]))"
   ]
  },
  {
   "cell_type": "markdown",
   "metadata": {},
   "source": [
    "### Évaluation\n",
    "\n",
    "Pour évaluer le modèle, on utilise le dataset de questions / titre fourni. On teste si le titre attendu pour chaque question est contenu dans la réponse du chatbot."
   ]
  },
  {
   "cell_type": "code",
   "execution_count": 89,
   "metadata": {},
   "outputs": [],
   "source": [
    "import random\n",
    "\n",
    "def test_random_questions(df_questions, rag_chain, N=10):\n",
    "    valid = N\n",
    "    for i in range(N):\n",
    "        index = random.randint(0, len(df_questions) - 1)\n",
    "        question = df_questions[\"Questions\"][index]\n",
    "        answer = rag_chain.invoke(question)\n",
    "        if df_questions[\"titre\"][index].lower() not in answer.lower():\n",
    "            valid -= 1\n",
    "            print(\"Question: \" + question)\n",
    "            print(\"Answer: \" + answer)\n",
    "            print(\"Title: \" + df_questions[\"titre\"][index])\n",
    "            print(\"--------------------------------------------------------\")\n",
    "    print(\"Accuracy: \" + str(valid/N * 100) + \"%\")"
   ]
  },
  {
   "cell_type": "code",
   "execution_count": 90,
   "metadata": {},
   "outputs": [
    {
     "name": "stdout",
     "output_type": "stream",
     "text": [
      "Question: J'ai une petite entreprise innovante dans le milieu du vin.\n",
      "Answer: Les deux aides les plus pertinentes pour le client sont les suivantes:\n",
      "\n",
      "1. Rencontres Entreprises Enseignants \"Mon réseau pro\":\n",
      "Cette aide consiste en des rencontres organisées entre les entreprises et les enseignants, dans le but de favoriser les échanges et les collaborations. Ces rencontres permettent aux entreprises innovantes, comme celle du client dans le milieu du vin, de rencontrer des enseignants spécialisés dans leur domaine d'activité. Cela peut être bénéfique pour le client car il pourra bénéficier de l'expertise des enseignants et établir des partenariats pour développer son entreprise.\n",
      "\n",
      "2. Innov'up Expérimentation Silver Economie / Bien vieillir:\n",
      "Cette aide est spécifiquement destinée aux entreprises innovantes dans le domaine de la Silver Economie et du bien vieillir. Bien que le client soit dans le milieu du vin, il peut également bénéficier de cette aide s'il propose des produits ou services liés à la santé et au bien-être des personnes âgées. Cette aide offre un soutien financier et technique pour expérimenter et développer des solutions innovantes dans ce domaine. Le client pourrait donc bénéficier de ressources supplémentaires pour développer des produits ou services adaptés aux besoins des personnes âgées, en complément de son activité dans le milieu du vin.\n",
      "Title: Innov'up Leader PIA 4\n",
      "--------------------------------------------------------\n",
      "Question: En tant qu'association culturelle, je souhaite améliorer l'isolation d'un château du 18 ème siècle\n",
      "Answer: Les deux aides les plus pertinentes pour le client sont :\n",
      "\n",
      "1. Aide à la restauration du patrimoine immobilier protégé :\n",
      "Cette aide vise à soutenir financièrement les travaux de restauration et de préservation du patrimoine immobilier protégé, tels que les châteaux, les monuments historiques, etc. Elle peut notamment couvrir les frais liés à l'amélioration de l'isolation, la rénovation des façades, la restauration des éléments architecturaux, etc. Pour bénéficier de cette aide, l'association culturelle devra présenter un projet détaillé des travaux à réaliser, ainsi que les justificatifs nécessaires prouvant le caractère protégé du château du 18ème siècle.\n",
      "\n",
      "2. Réhabilitation du patrimoine bâti rural agricole :\n",
      "Cette aide est destinée à la réhabilitation des bâtiments ruraux agricoles, tels que les granges, les étables, les fermes, etc. Bien que le château du 18ème siècle ne soit pas un bâtiment agricole, il est possible que cette aide puisse être adaptée pour soutenir les travaux d'amélioration de l'isolation. Il convient donc de se renseigner auprès des autorités compétentes pour savoir si cette aide peut être appliquée dans le cas spécifique du château du 18ème siècle. Cette aide peut couvrir une partie des frais de rénovation, y compris ceux liés à l'isolation, dans le but de préserver le patrimoine rural et de le valoriser.\n",
      "\n",
      "Il est important pour l'association culturelle de se renseigner auprès des organismes compétents, tels que les services du patrimoine, les collectivités locales ou les ministères de la Culture, pour obtenir plus d'informations sur ces aides et les conditions spécifiques à remplir pour en bénéficier.\n",
      "Title: Rénovation énergétique des bâtiments publics\n",
      "--------------------------------------------------------\n",
      "Question: Notre entreprise a été la cible d'attaque avec demande de rançon. Est-ce que la région peut nous aider à montrer un centre d'appel de gestion de crise\n",
      "Answer: Les deux aides les plus pertinentes pour le client sont :\n",
      "\n",
      "1. Centre de réponse aux incidents dédié aux acteurs de taille intermédiaire :\n",
      "Cette aide, mise en place grâce à la convention entre la Région Île-de-France et l'ANSSI, vise à fournir un soutien aux entreprises de taille intermédiaire qui ont été victimes d'attaques informatiques. Le centre de réponse aux incidents offre une assistance spécialisée pour gérer les crises liées à la sécurité informatique, telles que les attaques avec demande de rançon. Il fournit des conseils, des recommandations et une expertise technique pour aider les entreprises à faire face à ces situations et à minimiser les dommages. Le centre de réponse aux incidents est spécifiquement conçu pour répondre aux besoins des acteurs de taille intermédiaire, offrant ainsi un soutien adapté à leur situation.\n",
      "\n",
      "2. Soutien régional en investissement pour la protection des jeunes en situation de précarité :\n",
      "Bien que cette aide ne soit pas directement liée à la gestion des attaques informatiques, elle peut être pertinente pour le client si l'entreprise souhaite investir dans des mesures de protection supplémentaires pour ses employés. Cette aide régionale vise à soutenir les initiatives visant à protéger les jeunes en situation de précarité. En investissant dans des mesures de sécurité supplémentaires, telles que des formations en cybersécurité pour les employés, des systèmes de surveillance avancés ou des solutions de sauvegarde des données, l'entreprise peut renforcer sa résilience face aux attaques informatiques et réduire les risques de nouvelles attaques avec demande de rançon. Cette aide peut donc contribuer à renforcer la sécurité globale de l'entreprise et à prévenir de futures attaques.\n",
      "Title: AMI Référencement de prestataires Cybersécurité (niveau 2) Franciliens  par le CSIRT Ile-de-France\n",
      "--------------------------------------------------------\n",
      "Question: Je développe une structure de l'ESS\n",
      "Answer: Les deux aides les plus pertinentes pour le client sont :\n",
      "\n",
      "1. AMI pour la sélection d'un fonds ciblant les structures de l'ESS et à impact en phase d'amorçage :\n",
      "Cette aide consiste en un appel à manifestation d'intérêt (AMI) visant à sélectionner un fonds d'investissement spécialisé dans le financement des structures de l'économie sociale et solidaire (ESS) en phase d'amorçage. L'objectif est de soutenir le développement et la croissance de ces structures en leur fournissant des ressources financières nécessaires à leur démarrage. Le fonds sélectionné devra également avoir un impact positif sur la société et contribuer à la réalisation des objectifs de la stratégie régionale pour l'ESS.\n",
      "\n",
      "2. AMI pour la sélection d'un fonds ciblant les entreprises à impact franciliennes en phase d'amorçage :\n",
      "Cette aide consiste également en un appel à manifestation d'intérêt (AMI) visant à sélectionner un fonds d'investissement spécialisé dans le financement des entreprises à impact en phase d'amorçage en Île-de-France. L'objectif est de soutenir le développement de ces entreprises qui ont un impact positif sur la société et contribuent à la réalisation des objectifs de la stratégie régionale pour l'ESS. Le fonds sélectionné devra fournir des ressources financières aux entreprises à impact franciliennes en phase d'amorçage, leur permettant ainsi de démarrer et de croître.\n",
      "Title: invESS île-de-France\n",
      "--------------------------------------------------------\n",
      "Question: Je suis un producteur de laitue en difficulté en périphérie de Massy.\n",
      "Answer: Les deux aides les plus pertinentes pour le client sont :\n",
      "\n",
      "1. Aide à la transformation agroalimentaire francilienne : Cette aide vise à soutenir les producteurs agricoles franciliens dans la transformation de leurs produits. Elle peut prendre la forme d'une subvention ou d'un prêt à taux préférentiel pour financer l'achat d'équipements de transformation, la modernisation des installations ou la formation du personnel. Cette aide permettrait au client de diversifier son activité en transformant sa production de laitue en produits dérivés tels que des salades préparées, des soupes ou des jus de légumes, ce qui pourrait lui permettre de trouver de nouveaux débouchés et de valoriser davantage sa production.\n",
      "\n",
      "2. Soutien aux commerces ruraux de proximité : Cette aide vise à soutenir les commerces de proximité situés en milieu rural. Elle peut prendre la forme d'une subvention pour aider à couvrir les frais de fonctionnement, de communication ou de modernisation des commerces. Dans le cas du client, cette aide pourrait lui permettre de développer une activité de vente directe de ses produits, en ouvrant par exemple une boutique à la ferme ou en participant à des marchés locaux. Cela lui permettrait de se rapprocher des consommateurs, de créer un lien direct avec eux et de bénéficier d'une meilleure valorisation de sa production de laitue en vendant en circuit court.\n",
      "Title: Soutien à l’agriculture dans les zones périurbaines\n",
      "--------------------------------------------------------\n",
      "Accuracy: 60%\n"
     ]
    }
   ],
   "source": [
    "test_random_questions(df_questions, rag_chain, N=5)"
   ]
  },
  {
   "cell_type": "markdown",
   "metadata": {},
   "source": [
    "Le modèle se rapporche très souvent de la réponse attendue, sans pour autant parvenir à écrire le titre littéral. L'accuracy retournée est donc biaisée, malgré que le modèle soit objectivement bon."
   ]
  }
 ],
 "metadata": {
  "kernelspec": {
   "display_name": ".venv",
   "language": "python",
   "name": "python3"
  },
  "language_info": {
   "codemirror_mode": {
    "name": "ipython",
    "version": 3
   },
   "file_extension": ".py",
   "mimetype": "text/x-python",
   "name": "python",
   "nbconvert_exporter": "python",
   "pygments_lexer": "ipython3",
   "version": "3.11.6"
  }
 },
 "nbformat": 4,
 "nbformat_minor": 2
}
